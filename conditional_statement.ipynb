{
  "cells": [
    {
      "cell_type": "markdown",
      "metadata": {
        "id": "view-in-github",
        "colab_type": "text"
      },
      "source": [
        "<a href=\"https://colab.research.google.com/github/Soniprincy/Python/blob/main/conditional_statement.ipynb\" target=\"_parent\"><img src=\"https://colab.research.google.com/assets/colab-badge.svg\" alt=\"Open In Colab\"/></a>"
      ]
    },
    {
      "cell_type": "markdown",
      "id": "9e365530",
      "metadata": {
        "id": "9e365530"
      },
      "source": [
        "1. Take three user inputs and print the greatest number from those inputs using if-else condition.\n",
        "   Edge cases, if any, should also be handled."
      ]
    },
    {
      "cell_type": "code",
      "execution_count": null,
      "id": "4a3fbed6",
      "metadata": {
        "id": "4a3fbed6",
        "outputId": "b03e546a-c040-469d-e635-f16d8e755aaa"
      },
      "outputs": [
        {
          "name": "stdout",
          "output_type": "stream",
          "text": [
            "c is greater\n"
          ]
        }
      ],
      "source": [
        "a = 10\n",
        "b = 20\n",
        "c = 30\n",
        "\n",
        "if a>b and a>c:\n",
        "    print(\"a is greater\")\n",
        "elif b>a and b>c:\n",
        "    print(\"b is greater\")\n",
        "else:\n",
        "    print('c is greater')"
      ]
    },
    {
      "cell_type": "code",
      "execution_count": null,
      "id": "400e83ed",
      "metadata": {
        "id": "400e83ed"
      },
      "outputs": [],
      "source": []
    }
  ],
  "metadata": {
    "kernelspec": {
      "display_name": "Python 3 (ipykernel)",
      "language": "python",
      "name": "python3"
    },
    "language_info": {
      "codemirror_mode": {
        "name": "ipython",
        "version": 3
      },
      "file_extension": ".py",
      "mimetype": "text/x-python",
      "name": "python",
      "nbconvert_exporter": "python",
      "pygments_lexer": "ipython3",
      "version": "3.11.5"
    },
    "colab": {
      "provenance": [],
      "include_colab_link": true
    }
  },
  "nbformat": 4,
  "nbformat_minor": 5
}