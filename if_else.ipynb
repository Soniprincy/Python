{
  "cells": [
    {
      "cell_type": "markdown",
      "id": "e246e698",
      "metadata": {
        "id": "e246e698"
      },
      "source": [
        "1. Input the values of a and b as 10 and 20 respectively. Now check if a is\n",
        "greater or b is greater using if condition. Think about all the edge cases,\n",
        "and print the statements accordingly."
      ]
    },
    {
      "cell_type": "code",
      "execution_count": null,
      "id": "e312396e",
      "metadata": {
        "id": "e312396e",
        "outputId": "75b814f0-20a2-48ff-b05f-189db6eabeb9"
      },
      "outputs": [
        {
          "name": "stdout",
          "output_type": "stream",
          "text": [
            "b is greater\n"
          ]
        }
      ],
      "source": [
        "a = 10\n",
        "b = 20\n",
        "\n",
        "if a > b :\n",
        "    print(\"a is greater\")\n",
        "else:\n",
        "    print(\"b is greater\")"
      ]
    },
    {
      "cell_type": "code",
      "execution_count": null,
      "id": "7b881f2b",
      "metadata": {
        "id": "7b881f2b"
      },
      "outputs": [],
      "source": []
    }
  ],
  "metadata": {
    "kernelspec": {
      "display_name": "Python 3 (ipykernel)",
      "language": "python",
      "name": "python3"
    },
    "language_info": {
      "codemirror_mode": {
        "name": "ipython",
        "version": 3
      },
      "file_extension": ".py",
      "mimetype": "text/x-python",
      "name": "python",
      "nbconvert_exporter": "python",
      "pygments_lexer": "ipython3",
      "version": "3.11.5"
    },
    "colab": {
      "provenance": []
    }
  },
  "nbformat": 4,
  "nbformat_minor": 5
}