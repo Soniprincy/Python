{
  "cells": [
    {
      "cell_type": "markdown",
      "metadata": {
        "id": "view-in-github",
        "colab_type": "text"
      },
      "source": [
        "<a href=\"https://colab.research.google.com/github/Soniprincy/Python/blob/main/basic_python_questions.ipynb\" target=\"_parent\"><img src=\"https://colab.research.google.com/assets/colab-badge.svg\" alt=\"Open In Colab\"/></a>"
      ]
    },
    {
      "cell_type": "markdown",
      "id": "3e65b702",
      "metadata": {
        "id": "3e65b702"
      },
      "source": [
        "1. Write a Python program to print \"Hello Python\".\n"
      ]
    },
    {
      "cell_type": "code",
      "execution_count": null,
      "id": "163bb1c4",
      "metadata": {
        "id": "163bb1c4",
        "outputId": "2be1639a-bbfc-4e7f-af40-68025795d6c9"
      },
      "outputs": [
        {
          "name": "stdout",
          "output_type": "stream",
          "text": [
            "Hello Python\n"
          ]
        }
      ],
      "source": [
        "print('Hello Python')"
      ]
    },
    {
      "cell_type": "markdown",
      "id": "6494f9a9",
      "metadata": {
        "id": "6494f9a9"
      },
      "source": [
        "2. Write a Python program to do arithmetical operations addition and division."
      ]
    },
    {
      "cell_type": "code",
      "execution_count": null,
      "id": "4ff92d73",
      "metadata": {
        "id": "4ff92d73"
      },
      "outputs": [],
      "source": [
        "#addition\n",
        "\n",
        "num1 = int(input('enter 1st number : '))\n",
        "num2 = int(input('enter 2nd number : '))\n",
        "print(f'sum : {num1} + {num2} = {num1 + num2}')"
      ]
    },
    {
      "cell_type": "code",
      "execution_count": null,
      "id": "24da8bfb",
      "metadata": {
        "id": "24da8bfb"
      },
      "outputs": [],
      "source": [
        "#division\n",
        "\n",
        "num1 = int(input('enter 1st number : '))\n",
        "num2 = int(input('enter 2nd number : '))\n",
        "if num2 == 0:\n",
        "    print('number can not b divisible by 0')\n",
        "else:\n",
        "    print(f'{num1} / {num2} = {num1/num2}')"
      ]
    },
    {
      "cell_type": "markdown",
      "id": "04f910b3",
      "metadata": {
        "id": "04f910b3"
      },
      "source": [
        "3. Write a Python program to find the area of a triangle."
      ]
    },
    {
      "cell_type": "code",
      "execution_count": null,
      "id": "346d8a4f",
      "metadata": {
        "id": "346d8a4f"
      },
      "outputs": [],
      "source": [
        "base = int(input('enter base of the triangle : '))\n",
        "height = int(input('enter height of the triangle : '))\n",
        "print(f'area of triangle = {1/2*base*height}')"
      ]
    },
    {
      "cell_type": "markdown",
      "id": "7054a10a",
      "metadata": {
        "id": "7054a10a"
      },
      "source": [
        "4. Write a Python program to swap two variables."
      ]
    },
    {
      "cell_type": "code",
      "execution_count": null,
      "id": "57e911f6",
      "metadata": {
        "id": "57e911f6"
      },
      "outputs": [],
      "source": [
        "a = input('enter the first variable : ')\n",
        "b = input('enter the second variable : ')\n",
        "print(f'original value : a = {a} and b = {b}')\n",
        "print(f'swap value : a = {b} and b = {a}')"
      ]
    },
    {
      "cell_type": "markdown",
      "id": "84e8b915",
      "metadata": {
        "id": "84e8b915"
      },
      "source": [
        "5. Write a Python program to generate a random number."
      ]
    },
    {
      "cell_type": "code",
      "execution_count": null,
      "id": "198cabda",
      "metadata": {
        "id": "198cabda"
      },
      "outputs": [],
      "source": [
        "import random\n",
        "print(f'random number : {random.randint(0,100)}')"
      ]
    },
    {
      "cell_type": "markdown",
      "id": "8e28ec86",
      "metadata": {
        "id": "8e28ec86"
      },
      "source": [
        "6. Write a Python program to convert kilometers to miles."
      ]
    },
    {
      "cell_type": "code",
      "execution_count": null,
      "id": "0cfd3dbb",
      "metadata": {
        "id": "0cfd3dbb"
      },
      "outputs": [],
      "source": [
        "km = float(input('enter value in km : '))\n",
        "print(f'{km} km in mile = {km/1.609344}')"
      ]
    },
    {
      "cell_type": "markdown",
      "id": "61a69f7d",
      "metadata": {
        "id": "61a69f7d"
      },
      "source": [
        "7. Write a Python program to convert Celsius to Fahrenheit."
      ]
    },
    {
      "cell_type": "code",
      "execution_count": null,
      "id": "1df6b1a1",
      "metadata": {
        "id": "1df6b1a1"
      },
      "outputs": [],
      "source": [
        "celsius = float(input('temperature in celsius : '))\n",
        "print(f'{celsius} celsius in fehrenheit = {(celsius*9/5)+32}')"
      ]
    },
    {
      "cell_type": "markdown",
      "id": "073df5c9",
      "metadata": {
        "id": "073df5c9"
      },
      "source": [
        "8. Write a Python program to display calendar."
      ]
    },
    {
      "cell_type": "code",
      "execution_count": null,
      "id": "d5c6debf",
      "metadata": {
        "scrolled": true,
        "id": "d5c6debf"
      },
      "outputs": [],
      "source": [
        "import calendar\n",
        "year = int(input('enter year : '))\n",
        "month = int(input('enter month : '))\n",
        "cal = calendar.month(year, month)\n",
        "print(cal)"
      ]
    },
    {
      "cell_type": "markdown",
      "id": "4acafc50",
      "metadata": {
        "id": "4acafc50"
      },
      "source": [
        "9. Write a Python program to solve quadratic equation."
      ]
    },
    {
      "cell_type": "code",
      "execution_count": null,
      "id": "66a8e57d",
      "metadata": {
        "id": "66a8e57d"
      },
      "outputs": [],
      "source": [
        "import math\n",
        "a = float(input('enter cofficient of a : '))\n",
        "b = float(input('enter cofficient of b : '))\n",
        "c = float(input('enter cofficient of c : '))\n",
        "discriminant = (b**2) - (4*a*c)\n",
        "if discriminant > 0:\n",
        "    root1 = (-b + math.sqrt(discriminant))/(2*a)\n",
        "    root2 = (-b - math.sqrt(discriminant))/(2*a)\n",
        "    print(f'root1 = {root1}')\n",
        "    print(f'root2 = {root2}')\n",
        "elif discriminant == 0:\n",
        "    root = -b/(2*a)\n",
        "    print(f'root = {root}')\n",
        "else:\n",
        "    real = -b/(2*a)\n",
        "    imaginary = math.sqrt(abs(discriminant))/(2*a)\n",
        "    print(f'root1 = {real}+{imaginary}i')\n",
        "    print(f'root2 = {real}-{imaginary}i')"
      ]
    },
    {
      "cell_type": "markdown",
      "id": "bd5a24ea",
      "metadata": {
        "id": "bd5a24ea"
      },
      "source": [
        "10. Write a Python program to swap two variables without temp variable."
      ]
    },
    {
      "cell_type": "code",
      "execution_count": null,
      "id": "307045bf",
      "metadata": {
        "id": "307045bf"
      },
      "outputs": [],
      "source": [
        "a = 1\n",
        "b = 2\n",
        "a, b = b, a\n",
        "print('after swapping')\n",
        "print(f'a = {a}')\n",
        "print(f'b = {b}')"
      ]
    },
    {
      "cell_type": "markdown",
      "id": "ed1bdd51",
      "metadata": {
        "id": "ed1bdd51"
      },
      "source": [
        "11. Write a Python Program to Check if a Number is Positive, Negative or Zero."
      ]
    },
    {
      "cell_type": "code",
      "execution_count": null,
      "id": "f3054fa9",
      "metadata": {
        "id": "f3054fa9"
      },
      "outputs": [],
      "source": [
        "num = float(input('enter a number : '))\n",
        "if num < 0 :\n",
        "    print ('number is negative')\n",
        "elif num == 0:\n",
        "    print('number is zero')\n",
        "else:\n",
        "    print('number is positive')"
      ]
    },
    {
      "cell_type": "markdown",
      "id": "f6a239c2",
      "metadata": {
        "id": "f6a239c2"
      },
      "source": [
        "12. Write a Python Program to Check if a Number is Odd or Even."
      ]
    },
    {
      "cell_type": "code",
      "execution_count": null,
      "id": "b756b927",
      "metadata": {
        "id": "b756b927"
      },
      "outputs": [],
      "source": [
        "num = float(input('enter a number : '))\n",
        "if num%2 == 0:\n",
        "    print(f'{num} is even number')\n",
        "else:\n",
        "    print(f'{num} is odd number')"
      ]
    },
    {
      "cell_type": "markdown",
      "id": "9cedafbb",
      "metadata": {
        "id": "9cedafbb"
      },
      "source": [
        "13. Write a Python Program to Check Leap Year."
      ]
    },
    {
      "cell_type": "code",
      "execution_count": null,
      "id": "bc811ee3",
      "metadata": {
        "id": "bc811ee3"
      },
      "outputs": [],
      "source": [
        "year = int(input('enter a year : '))\n",
        "if (year%400 == 0)&(year%100 == 0):\n",
        "    print(f'{year} is a leap year')\n",
        "elif (year%4 == 0)&(year%100 != 0):\n",
        "    print(f'{year} is a leap year')\n",
        "else:\n",
        "    print(f'{year} is not a leap year')"
      ]
    },
    {
      "cell_type": "markdown",
      "id": "6a9db519",
      "metadata": {
        "id": "6a9db519"
      },
      "source": [
        "14. Write a Python Program to Check Prime Number."
      ]
    },
    {
      "cell_type": "code",
      "execution_count": null,
      "id": "c98745ae",
      "metadata": {
        "id": "c98745ae"
      },
      "outputs": [],
      "source": [
        "num = int(input('enter a number : '))\n",
        "if num <= 0:\n",
        "    print('invalid number')\n",
        "elif num == 1:\n",
        "    print('not a prime number')\n",
        "elif num == 2 :\n",
        "    print('prime number')\n",
        "else:\n",
        "    for i in range(2,num):\n",
        "        if num%i == 0:\n",
        "            print('not a prime number')\n",
        "            break\n",
        "    else :\n",
        "        print('prime number')"
      ]
    },
    {
      "cell_type": "markdown",
      "id": "7d40ec7c",
      "metadata": {
        "id": "7d40ec7c"
      },
      "source": [
        "15. Write a Python Program to Print all Prime Numbers in an Interval of 1-10."
      ]
    },
    {
      "cell_type": "code",
      "execution_count": null,
      "id": "f98b503d",
      "metadata": {
        "id": "f98b503d"
      },
      "outputs": [],
      "source": [
        "lower = int(input('enter a lower limit : '))\n",
        "upper = int(input('enter a upper limit : '))\n",
        "for i in range(lower, upper+1):\n",
        "    if i<= 0:\n",
        "        continue\n",
        "    elif i==2:\n",
        "        print(i)\n",
        "    elif i>2:\n",
        "        for j in range(2,i):\n",
        "            if i%j == 0:\n",
        "                break\n",
        "        else:\n",
        "            print(i)"
      ]
    },
    {
      "cell_type": "markdown",
      "id": "adcb0744",
      "metadata": {
        "id": "adcb0744"
      },
      "source": [
        "16. Write a Python Program to Find the Factorial of a Number."
      ]
    },
    {
      "cell_type": "code",
      "execution_count": null,
      "id": "73db933e",
      "metadata": {
        "id": "73db933e"
      },
      "outputs": [],
      "source": [
        "num = int(input('enter a number : '))\n",
        "factorial = 1\n",
        "if num == 0:\n",
        "    print('factorial of 0 is 1')\n",
        "else:\n",
        "    for i in range(1,num+1):\n",
        "        factorial = factorial*i\n",
        "    print(f'factorial of {num} is {factorial}')"
      ]
    },
    {
      "cell_type": "markdown",
      "id": "f18bb61f",
      "metadata": {
        "id": "f18bb61f"
      },
      "source": [
        "17. Write a Python Program to Display the multiplication Table."
      ]
    },
    {
      "cell_type": "code",
      "execution_count": null,
      "id": "9154b21e",
      "metadata": {
        "id": "9154b21e"
      },
      "outputs": [],
      "source": [
        "num = int(input('multiplication table of : '))\n",
        "for i in range(1,11):\n",
        "    print(f'{num} X {i} = {num*i}')"
      ]
    },
    {
      "cell_type": "markdown",
      "id": "99fd00ca",
      "metadata": {
        "id": "99fd00ca"
      },
      "source": [
        "18. Write a Python Program to Print the Fibonacci sequence."
      ]
    },
    {
      "cell_type": "code",
      "execution_count": null,
      "id": "8e30a6ed",
      "metadata": {
        "id": "8e30a6ed"
      },
      "outputs": [],
      "source": [
        "num = int(input('enter no. of fibonaccii sequence'))\n",
        "a = 1\n",
        "b = 1\n",
        "count = num\n",
        "if count == 1:\n",
        "    print('1')\n",
        "elif count >= 2:\n",
        "    print('1')\n",
        "    print('1')\n",
        "for i in range(3, num+1):\n",
        "    a, b = b, a+b\n",
        "    print(b)"
      ]
    },
    {
      "cell_type": "markdown",
      "id": "00f159ad",
      "metadata": {
        "id": "00f159ad"
      },
      "source": [
        "19. Write a Python Program to Check Armstrong Number?"
      ]
    },
    {
      "cell_type": "code",
      "execution_count": null,
      "id": "8f59fc58",
      "metadata": {
        "id": "8f59fc58"
      },
      "outputs": [],
      "source": [
        "num = input('enter a number : ')\n",
        "length = len(num)\n",
        "total = 0\n",
        "for i in num:\n",
        "    total += int(i)**length\n",
        "if total == int(num):\n",
        "    print('armstrong number')\n",
        "else:\n",
        "    print('not a armstrong number')"
      ]
    },
    {
      "cell_type": "markdown",
      "id": "47e856c6",
      "metadata": {
        "id": "47e856c6"
      },
      "source": [
        "20. Write a Python Program to Find Armstrong Number in an Interval."
      ]
    },
    {
      "cell_type": "code",
      "execution_count": null,
      "id": "2cba4e47",
      "metadata": {
        "id": "2cba4e47"
      },
      "outputs": [],
      "source": [
        "lower = int(input('enter lower limit : '))\n",
        "upper = int(input('enter upper limit : '))\n",
        "for i in range(lower, upper+1):\n",
        "    total = 0\n",
        "    length = len(str(i))\n",
        "    for j in str(i):\n",
        "        total += int(j)**length\n",
        "    if total == int(i):\n",
        "        print(i)\n",
        "    else:\n",
        "        continue"
      ]
    },
    {
      "cell_type": "markdown",
      "id": "40c983e3",
      "metadata": {
        "id": "40c983e3"
      },
      "source": [
        "21. Write a Python Program to Find the Sum of Natural Numbers."
      ]
    },
    {
      "cell_type": "code",
      "execution_count": null,
      "id": "3de1b97d",
      "metadata": {
        "id": "3de1b97d"
      },
      "outputs": [],
      "source": [
        "num = int(input('enter a limit : '))\n",
        "total = 0\n",
        "for i in range(1,num+1):\n",
        "    total += i\n",
        "print(total)"
      ]
    },
    {
      "cell_type": "markdown",
      "id": "d00e0ab5",
      "metadata": {
        "id": "d00e0ab5"
      },
      "source": [
        "22. Write a Python Program to Find LCM."
      ]
    },
    {
      "cell_type": "code",
      "execution_count": null,
      "id": "7309a67b",
      "metadata": {
        "id": "7309a67b"
      },
      "outputs": [],
      "source": [
        "x = int(input('enter 1st number : '))\n",
        "y = int(input('enter 2nd number : '))\n",
        "if x>y:\n",
        "    greater = x\n",
        "    lower = y\n",
        "else:\n",
        "    greater = y\n",
        "    lower = x\n",
        "for i in range(1,lower+1):\n",
        "    if (lower%i==0 | greater%i==0):\n",
        "        gcd = i\n",
        "        continue\n",
        "lcm = (lower*greater)/gcd\n",
        "print(f'the L.C.M. is : {lcm}')"
      ]
    },
    {
      "cell_type": "markdown",
      "id": "50fb109e",
      "metadata": {
        "id": "50fb109e"
      },
      "source": [
        "23. Write a Python Program to Find HCF."
      ]
    },
    {
      "cell_type": "code",
      "execution_count": null,
      "id": "402b40a5",
      "metadata": {
        "id": "402b40a5"
      },
      "outputs": [],
      "source": [
        "x = int(input('enter 1st number : '))\n",
        "y = int(input('enter 2nd number : '))\n",
        "if x>y:\n",
        "    greater = x\n",
        "    lower = y\n",
        "else:\n",
        "    greater = y\n",
        "    lower = x\n",
        "for i in range(1,lower+1):\n",
        "    if (lower%i==0 | greater%i==0):\n",
        "        gcd = i\n",
        "        continue\n",
        "print(f'the H.C.F. is : {gcd}')"
      ]
    },
    {
      "cell_type": "markdown",
      "id": "8cbbd5b3",
      "metadata": {
        "id": "8cbbd5b3"
      },
      "source": [
        "24. Write a Python Program to Convert Decimal to Binary, Octal and Hexadecimal."
      ]
    },
    {
      "cell_type": "code",
      "execution_count": null,
      "id": "a28884bc",
      "metadata": {
        "id": "a28884bc"
      },
      "outputs": [],
      "source": [
        "num = int(input('enter a number : '))\n",
        "print(f'{num} in binary is : {bin(num)}')\n",
        "print(f'{num} in octadecimal is : {oct(num)}')\n",
        "print(f'{num} in hexadecimal is : {hex(num)}')"
      ]
    },
    {
      "cell_type": "markdown",
      "id": "2923e854",
      "metadata": {
        "id": "2923e854"
      },
      "source": [
        "25. Write a Python Program To Find ASCII value of a character."
      ]
    },
    {
      "cell_type": "code",
      "execution_count": null,
      "id": "08664616",
      "metadata": {
        "id": "08664616"
      },
      "outputs": [],
      "source": [
        "string = str(input('enter a character : '))\n",
        "print(f'The ASCII value of {string} is {ord(string)}')"
      ]
    },
    {
      "cell_type": "markdown",
      "id": "0e3f3ca5",
      "metadata": {
        "id": "0e3f3ca5"
      },
      "source": [
        "26. Write a Python Program to Make a Simple Calculator with 4 basic mathematical operations."
      ]
    },
    {
      "cell_type": "code",
      "execution_count": null,
      "id": "c4e08f8a",
      "metadata": {
        "id": "c4e08f8a"
      },
      "outputs": [],
      "source": [
        "def add(num1,num2):\n",
        "    return num1+num2\n",
        "def substract(num1,num2):\n",
        "    return num1-num2\n",
        "def multiply(num1,num2):\n",
        "    return num1*num2\n",
        "def divide(num1,num2):\n",
        "    return num1/num2\n",
        "while(True):\n",
        "    num1 = int(input('enter a first number : '))\n",
        "    num2 = int(input('enter a second number'))\n",
        "    print('1. addition')\n",
        "    print('1. substraction')\n",
        "    print('1. multiplication')\n",
        "    print('1. division')\n",
        "    choose = input('choose from 1/2/3/4 : ')\n",
        "    if choose in ('1', '2', '3', '4'):\n",
        "        if choose == '1':\n",
        "            print(f'addition of {num1} & {num2} is {add(num1,num2)}')\n",
        "        elif choose == '2':\n",
        "            print(f'substraction of {num1} & {num2} is {substract(num1,num2)}')\n",
        "        elif choose == '3':\n",
        "            print(f'multiplication of {num1} & {num2} is {multiply(num1,num2)}')\n",
        "        elif choose == '4':\n",
        "            print(f'division of {num1} & {num2} is {divide(num1,num2)}')\n",
        "        next_cal = input('do you want more calculation (yes/no) : ')\n",
        "        if next_cal == 'no':\n",
        "            print('Thank You')\n",
        "            break\n",
        "    else:\n",
        "        print('invalid data')\n",
        ""
      ]
    },
    {
      "cell_type": "markdown",
      "id": "d057bdd3",
      "metadata": {
        "id": "d057bdd3"
      },
      "source": [
        "27. Write a Python Program to Display Fibonacci Sequence Using Recursion."
      ]
    },
    {
      "cell_type": "code",
      "execution_count": null,
      "id": "c6fb8609",
      "metadata": {
        "id": "c6fb8609",
        "outputId": "2a833477-6414-4135-8511-1ead05463386"
      },
      "outputs": [
        {
          "name": "stdout",
          "output_type": "stream",
          "text": [
            "enter a number greater than zero : 10\n",
            "1\n",
            "1\n",
            "2\n",
            "3\n",
            "5\n",
            "8\n",
            "13\n",
            "21\n",
            "34\n",
            "55\n"
          ]
        }
      ],
      "source": [
        "def fibonacci_sequence(n):\n",
        "    if n <= 1:\n",
        "        return n\n",
        "    else:\n",
        "        return (fibonacci_sequence(n-1) + fibonacci_sequence(n-2))\n",
        "\n",
        "# for printing sequence\n",
        "\n",
        "num = int(input('enter a number greater than zero : '))\n",
        "\n",
        "if num <= 0:\n",
        "    print('enter number > 0')\n",
        "else:\n",
        "    for i in range(1,num+1):\n",
        "        print(fibonacci_sequence(i))\n",
        "\n",
        ""
      ]
    },
    {
      "cell_type": "markdown",
      "id": "33cc7100",
      "metadata": {
        "id": "33cc7100"
      },
      "source": [
        "28. Write a Python Program to Find Factorial of Number Using Recursion."
      ]
    },
    {
      "cell_type": "code",
      "execution_count": null,
      "id": "43453b7e",
      "metadata": {
        "id": "43453b7e",
        "outputId": "460942d1-64b7-4223-b44e-2a4671eff37c"
      },
      "outputs": [
        {
          "data": {
            "text/plain": [
              "3628800"
            ]
          },
          "execution_count": 5,
          "metadata": {},
          "output_type": "execute_result"
        }
      ],
      "source": [
        "def factorial(n):\n",
        "    if n <= 1:\n",
        "        return 1\n",
        "    elif n == 2:\n",
        "        return 2\n",
        "    else:\n",
        "        return(n*factorial(n-1))\n",
        "\n",
        "factorial(10)"
      ]
    },
    {
      "cell_type": "markdown",
      "id": "246fa611",
      "metadata": {
        "id": "246fa611"
      },
      "source": [
        "29. Write a Python Program to calculate your Body Mass Index.\n"
      ]
    },
    {
      "cell_type": "code",
      "execution_count": null,
      "id": "660a5c5a",
      "metadata": {
        "id": "660a5c5a",
        "outputId": "4ae1679e-a9b6-4630-8c8a-3518082701f1"
      },
      "outputs": [
        {
          "name": "stdout",
          "output_type": "stream",
          "text": [
            "enter weight : 100\n",
            "enter height : 1\n",
            "your Body Mass Index is 100.0.\n",
            "you are obese.\n"
          ]
        }
      ],
      "source": [
        "def BMI(weight, height):\n",
        "    return round(weight/height**2, 2)\n",
        "\n",
        "w = float(input('enter weight : '))\n",
        "h = float(input('enter height : '))\n",
        "\n",
        "BMI = BMI(w, h)\n",
        "print(f'your Body Mass Index is {BMI}.')\n",
        "\n",
        "if BMI <= 18.5:\n",
        "    print('you are underweight.')\n",
        "elif 18.5 < BMI < 24.9:\n",
        "    print('your weight is normal.')\n",
        "elif 24 < BMI < 29.9:\n",
        "    print('you are overweight.')\n",
        "else:\n",
        "    print('you are obese.')"
      ]
    },
    {
      "cell_type": "markdown",
      "id": "1f8f80a7",
      "metadata": {
        "id": "1f8f80a7"
      },
      "source": [
        "30. Write a Python Program to calculate the natural logarithm of any number."
      ]
    },
    {
      "cell_type": "code",
      "execution_count": null,
      "id": "5711210c",
      "metadata": {
        "id": "5711210c",
        "outputId": "7544e202-37fa-471f-9262-36f32680ffa0"
      },
      "outputs": [
        {
          "name": "stdout",
          "output_type": "stream",
          "text": [
            "enter a number : 1\n",
            "0.0\n"
          ]
        }
      ],
      "source": [
        "import math\n",
        "\n",
        "num = int(input('enter a number : '))\n",
        "if num <= 0 :\n",
        "    print('enter a positive number')\n",
        "else :\n",
        "    print(math.log(num))"
      ]
    },
    {
      "cell_type": "markdown",
      "id": "851e9789",
      "metadata": {
        "id": "851e9789"
      },
      "source": [
        "31. Write a Python Program for cube sum of first n natural numbers?"
      ]
    },
    {
      "cell_type": "code",
      "execution_count": null,
      "id": "e2987f2f",
      "metadata": {
        "id": "e2987f2f",
        "outputId": "0e4c02f5-7019-4f4e-c06b-cbbc8eb012d0"
      },
      "outputs": [
        {
          "name": "stdout",
          "output_type": "stream",
          "text": [
            "enter value of n : 3\n",
            "sum of cubes of first 3 natural number is : 36\n"
          ]
        }
      ],
      "source": [
        "def cube_of_n_natural_numbers(n):\n",
        "    total = sum(i**3 for i in range(1, n+1))\n",
        "    return total\n",
        "\n",
        "n = int(input('enter value of n : '))\n",
        "if n <= 0:\n",
        "    print('enter a positive number')\n",
        "else:\n",
        "    ans = cube_of_n_natural_numbers(n)\n",
        "    print(f'sum of cubes of first {n} natural number is : {ans}')"
      ]
    },
    {
      "cell_type": "markdown",
      "id": "dca02c70",
      "metadata": {
        "id": "dca02c70"
      },
      "source": [
        "32. Write a Python Program to find sum of array."
      ]
    },
    {
      "cell_type": "code",
      "execution_count": null,
      "id": "02114f80",
      "metadata": {
        "id": "02114f80",
        "outputId": "44e57ff0-1686-44bb-9382-8647130b8319"
      },
      "outputs": [
        {
          "data": {
            "text/plain": [
              "10"
            ]
          },
          "execution_count": 32,
          "metadata": {},
          "output_type": "execute_result"
        }
      ],
      "source": [
        "def sum_of_array(array):\n",
        "    return sum(array)\n",
        "\n",
        "sum_of_array([1,2,3,4])"
      ]
    },
    {
      "cell_type": "code",
      "execution_count": null,
      "id": "9d501be6",
      "metadata": {
        "id": "9d501be6",
        "outputId": "210da86f-744d-45f5-bb01-6a2155658f77"
      },
      "outputs": [
        {
          "data": {
            "text/plain": [
              "10"
            ]
          },
          "execution_count": 34,
          "metadata": {},
          "output_type": "execute_result"
        }
      ],
      "source": [
        "# one more method\n",
        "\n",
        "def sum_of_arr(array):\n",
        "    total = sum(i for i in array)\n",
        "    return total\n",
        "\n",
        "sum_of_arr([1,2,3,4])"
      ]
    },
    {
      "cell_type": "markdown",
      "id": "15fbd06a",
      "metadata": {
        "id": "15fbd06a"
      },
      "source": [
        "33. Write a Python Program to find largest element in an array."
      ]
    },
    {
      "cell_type": "code",
      "execution_count": null,
      "id": "40cb37db",
      "metadata": {
        "id": "40cb37db",
        "outputId": "c61fa2f4-92ee-4fec-a9cc-8091d25e7f47"
      },
      "outputs": [
        {
          "name": "stdout",
          "output_type": "stream",
          "text": [
            "the largest element in the array is : 90\n"
          ]
        }
      ],
      "source": [
        "def largest_in_arr(array):\n",
        "    largest = 0\n",
        "    for i in array:\n",
        "        if i > largest:\n",
        "            largest = i\n",
        "    return largest\n",
        "\n",
        "print(f'the largest element in the array is : {largest_in_arr([8,5,7,6,1,10,90,8,4])}')"
      ]
    },
    {
      "cell_type": "markdown",
      "id": "9d15f1d1",
      "metadata": {
        "id": "9d15f1d1"
      },
      "source": [
        "34. Write a Python Program for array rotation."
      ]
    },
    {
      "cell_type": "code",
      "execution_count": null,
      "id": "f9e3d8a5",
      "metadata": {
        "id": "f9e3d8a5"
      },
      "outputs": [],
      "source": [
        "def left_rotation(array,length):\n",
        "    for i in range(0,length):\n",
        "        array.append(array[0])\n",
        "        array.remove(array[0])\n",
        "    print(array)"
      ]
    },
    {
      "cell_type": "code",
      "execution_count": null,
      "id": "4b6997e9",
      "metadata": {
        "id": "4b6997e9",
        "outputId": "67ff37d8-dbd5-4aa3-f227-921574162177"
      },
      "outputs": [
        {
          "name": "stdout",
          "output_type": "stream",
          "text": [
            "[4, 5, 6, 7, 8, 9, 1, 2, 3]\n"
          ]
        }
      ],
      "source": [
        "left_rotation([1,2,3,4,5,6,7,8,9], 3)"
      ]
    },
    {
      "cell_type": "code",
      "execution_count": null,
      "id": "0edb9554",
      "metadata": {
        "id": "0edb9554"
      },
      "outputs": [],
      "source": [
        "def right_rotation(array,length):\n",
        "    for i in range(0,length):\n",
        "        array = np.append(array[-1],array)\n",
        "        array = np.delete(array,-1)\n",
        "    print(array)"
      ]
    },
    {
      "cell_type": "code",
      "execution_count": null,
      "id": "7f335e70",
      "metadata": {
        "id": "7f335e70",
        "outputId": "a9a9de05-1df2-4d72-d3b7-26728b5360d4"
      },
      "outputs": [
        {
          "name": "stdout",
          "output_type": "stream",
          "text": [
            "[7 8 9 1 2 3 4 5 6]\n"
          ]
        }
      ],
      "source": [
        "right_rotation([1,2,3,4,5,6,7,8,9], 3)"
      ]
    },
    {
      "cell_type": "markdown",
      "id": "e2131a12",
      "metadata": {
        "id": "e2131a12"
      },
      "source": [
        "35. Write a Python Program to Split the array and add the first part to the end?"
      ]
    },
    {
      "cell_type": "code",
      "execution_count": null,
      "id": "7ad7e7a4",
      "metadata": {
        "id": "7ad7e7a4"
      },
      "outputs": [],
      "source": [
        "def split_and_add(array,split):\n",
        "    if split < 1 :\n",
        "        print('array from 0th index cant be splitted : no changes')\n",
        "        return array\n",
        "    start = array[:split]\n",
        "    end = array[split:]\n",
        "    return end + start"
      ]
    },
    {
      "cell_type": "code",
      "execution_count": null,
      "id": "cdd8b8b6",
      "metadata": {
        "id": "cdd8b8b6",
        "outputId": "f8a77efe-5837-47c1-adb4-45771a2951ec"
      },
      "outputs": [
        {
          "name": "stdout",
          "output_type": "stream",
          "text": [
            "array from 0th index cant be splitted : no changes\n"
          ]
        },
        {
          "data": {
            "text/plain": [
              "[1, 2, 3, 4, 5]"
            ]
          },
          "execution_count": 40,
          "metadata": {},
          "output_type": "execute_result"
        }
      ],
      "source": [
        "split_and_add([1,2,3,4,5],0)"
      ]
    },
    {
      "cell_type": "markdown",
      "id": "2e7cd30c",
      "metadata": {
        "id": "2e7cd30c"
      },
      "source": [
        "36. Write a Python Program to check if given array is Monotonic."
      ]
    },
    {
      "cell_type": "code",
      "execution_count": null,
      "id": "7096d23d",
      "metadata": {
        "id": "7096d23d",
        "outputId": "dfac8999-d53b-4de6-bbda-89736df051d0"
      },
      "outputs": [
        {
          "name": "stdout",
          "output_type": "stream",
          "text": [
            "arr1 is monotonic: True\n",
            "arr2 is monotonic: True\n",
            "arr3 is monotonic: False\n"
          ]
        }
      ],
      "source": [
        "def is_monotonic(arr):\n",
        "    increasing = decreasing = True\n",
        "    for i in range(1, len(arr)):\n",
        "        if arr[i] > arr[i - 1]:\n",
        "            decreasing = False\n",
        "        elif arr[i] < arr[i - 1]:\n",
        "            increasing = False\n",
        "    return increasing or decreasing\n",
        "# Test the function\n",
        "arr1 = [1, 2, 2, 3] # Monotonic (non-decreasing)\n",
        "arr2 = [3, 2, 1] # Monotonic (non-increasing)\n",
        "arr3 = [1, 3, 2, 4] # Not monotonic\n",
        "print(\"arr1 is monotonic:\", is_monotonic(arr1))\n",
        "print(\"arr2 is monotonic:\", is_monotonic(arr2))\n",
        "print(\"arr3 is monotonic:\", is_monotonic(arr3))"
      ]
    },
    {
      "cell_type": "markdown",
      "id": "98c0d028",
      "metadata": {
        "id": "98c0d028"
      },
      "source": [
        "37. Write a Python Program to Add Two Matrices."
      ]
    },
    {
      "cell_type": "code",
      "execution_count": null,
      "id": "f53884dd",
      "metadata": {
        "id": "f53884dd"
      },
      "outputs": [],
      "source": [
        "def add_matrices(mat1, mat2):\n",
        "    if (len(mat1) != len(mat2)) | (len(mat1[0]) != len(mat2[0])):\n",
        "        print(\"oops!! matrices can't be added due to different shapes\")\n",
        "    else:\n",
        "        add = []\n",
        "        for i in range(len(mat1)):\n",
        "            row = []\n",
        "            for j in range(len(mat1[0])):\n",
        "                row.append(mat1[i][j] + mat2[i][j])\n",
        "            add.append(row)\n",
        "        return add"
      ]
    },
    {
      "cell_type": "code",
      "execution_count": null,
      "id": "33608909",
      "metadata": {
        "id": "33608909",
        "outputId": "59119dbc-2e71-42b6-daf5-c4fe67f8ce05"
      },
      "outputs": [
        {
          "data": {
            "text/plain": [
              "[[2, 4, 6], [8, 10, 12]]"
            ]
          },
          "execution_count": 27,
          "metadata": {},
          "output_type": "execute_result"
        }
      ],
      "source": [
        "add_matrices([[1,2,3],[4,5,6]],[[1,2,3],[4,5,6]])"
      ]
    },
    {
      "cell_type": "markdown",
      "id": "d8d46f46",
      "metadata": {
        "id": "d8d46f46"
      },
      "source": [
        "38. Write a Python Program to Multiply Two Matrices."
      ]
    },
    {
      "cell_type": "code",
      "execution_count": null,
      "id": "7c957039",
      "metadata": {
        "id": "7c957039"
      },
      "outputs": [],
      "source": [
        "x = [[1,2,3],\n",
        "     [4,5,6],\n",
        "     [7,8,9]]\n",
        "y = [[9,8,7],\n",
        "     [6,5,4],\n",
        "     [3,2,1]]"
      ]
    },
    {
      "cell_type": "code",
      "execution_count": null,
      "id": "6c40dac4",
      "metadata": {
        "id": "6c40dac4",
        "outputId": "888a4618-5a3b-46a9-b7d7-a7b887d3ea49"
      },
      "outputs": [
        {
          "data": {
            "text/plain": [
              "5"
            ]
          },
          "execution_count": 9,
          "metadata": {},
          "output_type": "execute_result"
        }
      ],
      "source": [
        "# len(x[0])\n",
        "# len(x)\n",
        "x[1][1]"
      ]
    },
    {
      "cell_type": "code",
      "execution_count": null,
      "id": "e13402df",
      "metadata": {
        "id": "e13402df"
      },
      "outputs": [],
      "source": [
        "def matrices_multiplication(mat1, mat2):\n",
        "    a,b = mat1,mat2\n",
        "    a_col,a_row = len(a[0]),len(a)\n",
        "    b_col,b_row = len(b[0]),len(b)\n",
        "    result = []\n",
        "    for i in range(0,a_col):\n",
        "        mat = []\n",
        "        for j in range(0,b_col):\n",
        "            var = 0\n",
        "            for k in range(0,b_row):\n",
        "                var += a[i][k]*b[k][j]\n",
        "            mat.append(var)\n",
        "        result.append(mat)\n",
        "    return result"
      ]
    },
    {
      "cell_type": "code",
      "execution_count": null,
      "id": "cc5ea0bd",
      "metadata": {
        "id": "cc5ea0bd",
        "outputId": "e825a71d-d6ad-4fd4-97e9-66f44067ff57"
      },
      "outputs": [
        {
          "data": {
            "text/plain": [
              "[[30, 24, 18], [84, 69, 54], [138, 114, 90]]"
            ]
          },
          "execution_count": 15,
          "metadata": {},
          "output_type": "execute_result"
        }
      ],
      "source": [
        "matrices_multiplication(x,y)"
      ]
    },
    {
      "cell_type": "markdown",
      "id": "4f9dc5eb",
      "metadata": {
        "id": "4f9dc5eb"
      },
      "source": [
        "39. Write a Python Program to Transpose a Matrix."
      ]
    },
    {
      "cell_type": "code",
      "execution_count": null,
      "id": "c4e5865f",
      "metadata": {
        "id": "c4e5865f"
      },
      "outputs": [],
      "source": [
        "def matrices_transpose(matrix):\n",
        "    col, row = len(matrix[0]),len(matrix)\n",
        "    result = []\n",
        "    for i in range(0,col):\n",
        "        add = []\n",
        "        for j in range(0,row):\n",
        "            add.append(matrix[j][i])\n",
        "        result.append(add)\n",
        "    return result"
      ]
    },
    {
      "cell_type": "code",
      "execution_count": null,
      "id": "21e5fec4",
      "metadata": {
        "id": "21e5fec4",
        "outputId": "96022fac-e75c-45f3-c955-436cc5e59e9a"
      },
      "outputs": [
        {
          "data": {
            "text/plain": [
              "[[1, 4, 7], [2, 5, 8], [3, 6, 9]]"
            ]
          },
          "execution_count": 8,
          "metadata": {},
          "output_type": "execute_result"
        }
      ],
      "source": [
        "x = [[1,2,3],\n",
        "     [4,5,6],\n",
        "     [7,8,9]]\n",
        "\n",
        "matrices_transpose(x)"
      ]
    },
    {
      "cell_type": "markdown",
      "id": "6e83de8f",
      "metadata": {
        "id": "6e83de8f"
      },
      "source": [
        "40. Write a Python Program to Sort Words in Alphabetic Order.\n"
      ]
    },
    {
      "cell_type": "code",
      "execution_count": null,
      "id": "32a5882e",
      "metadata": {
        "id": "32a5882e",
        "outputId": "3a80c54f-d143-4628-ae46-d0bff5046fad"
      },
      "outputs": [
        {
          "name": "stdout",
          "output_type": "stream",
          "text": [
            "my string : cat dog elephant tiger lion\n",
            "The sorted words are : \n",
            "Cat\n",
            "Dog\n",
            "Elephant\n",
            "Lion\n",
            "Tiger\n"
          ]
        }
      ],
      "source": [
        "string = input('my string : ')\n",
        "words = [x.capitalize() for x in string.split()]\n",
        "words.sort()\n",
        "print('The sorted words are : ')\n",
        "for i in words:\n",
        "    print(i)"
      ]
    },
    {
      "cell_type": "markdown",
      "id": "f7836035",
      "metadata": {
        "id": "f7836035"
      },
      "source": [
        "41. Write a Python Program to Remove Punctuation From a String.\n"
      ]
    },
    {
      "cell_type": "code",
      "execution_count": null,
      "id": "59fca068",
      "metadata": {
        "id": "59fca068",
        "outputId": "829a39a2-b077-4c62-d6df-206e8536d76c"
      },
      "outputs": [
        {
          "name": "stdout",
          "output_type": "stream",
          "text": [
            "Enter a string : hey! this is princy, nice to meet you, i am preparing for data scientist\n",
            "cleared string : hey this is princy nice to meet you i am preparing for data scientist\n"
          ]
        }
      ],
      "source": [
        "string = input('Enter a string : ')\n",
        "\n",
        "punctuations = \"'`~!@#$%^&*()_+=-[]{}\\|;:'\"\"/?.>,<'\"\n",
        "\n",
        "no_punctuation = ''\n",
        "for i in string:\n",
        "    if i not in punctuations:\n",
        "        no_punctuation += i\n",
        "print(f'cleared string : {no_punctuation}')"
      ]
    },
    {
      "cell_type": "markdown",
      "id": "8ecfbaaa",
      "metadata": {
        "id": "8ecfbaaa"
      },
      "source": [
        "# 42. Question is missing."
      ]
    },
    {
      "cell_type": "markdown",
      "id": "bd5f723e",
      "metadata": {
        "id": "bd5f723e"
      },
      "source": [
        "43. Write a Python program to check if the given number is a Disarium Number\n",
        "* (8**1 + 9**2 == 89)"
      ]
    },
    {
      "cell_type": "code",
      "execution_count": null,
      "id": "1fde1262",
      "metadata": {
        "id": "1fde1262",
        "outputId": "603aad90-c049-4bc6-9005-ff74347688a7"
      },
      "outputs": [
        {
          "name": "stdout",
          "output_type": "stream",
          "text": [
            "Enter a number : 89\n",
            "Disarium number\n"
          ]
        }
      ],
      "source": [
        "num = str(input('Enter a number : '))\n",
        "\n",
        "result = 0\n",
        "j = 0\n",
        "for i in num:\n",
        "    j += 1\n",
        "    i = int(i)\n",
        "    result += i**j\n",
        "if result == int(num):\n",
        "    print('Disarium number')\n",
        "else:\n",
        "    print('Not a disarium number')"
      ]
    },
    {
      "cell_type": "markdown",
      "id": "cb9e1013",
      "metadata": {
        "id": "cb9e1013"
      },
      "source": [
        "44. Write a Python program to print all disarium numbers between 1 to 100."
      ]
    },
    {
      "cell_type": "code",
      "execution_count": null,
      "id": "151498c5",
      "metadata": {
        "id": "151498c5",
        "outputId": "24f43fa2-2c04-4e58-b3bf-8109cbbf4d45"
      },
      "outputs": [
        {
          "name": "stdout",
          "output_type": "stream",
          "text": [
            "[1, 2, 3, 4, 5, 6, 7, 8, 9, 89]\n"
          ]
        }
      ],
      "source": [
        "Disariums = []\n",
        "\n",
        "for num in range (1,101):\n",
        "    result = 0\n",
        "    j = 0\n",
        "    for i in str(num):\n",
        "        j += 1\n",
        "        i = int(i)\n",
        "        result += i**j\n",
        "    if result == int(num):\n",
        "        Disariums.append(num)\n",
        "    else:\n",
        "        continue\n",
        "print(Disariums)"
      ]
    },
    {
      "cell_type": "markdown",
      "id": "4b2cdeec",
      "metadata": {
        "id": "4b2cdeec"
      },
      "source": [
        "45. Write a Python program to check if the given number is Happy Number"
      ]
    },
    {
      "cell_type": "code",
      "execution_count": null,
      "id": "12a8d13b",
      "metadata": {
        "id": "12a8d13b",
        "outputId": "aad040bb-bb39-445a-9e47-4dca67dcb39c"
      },
      "outputs": [
        {
          "ename": "SyntaxError",
          "evalue": "invalid syntax (2504684040.py, line 1)",
          "output_type": "error",
          "traceback": [
            "\u001b[1;36m  Cell \u001b[1;32mIn[3], line 1\u001b[1;36m\u001b[0m\n\u001b[1;33m    -------------------------------------------------------------------------------------------------------------\u001b[0m\n\u001b[1;37m                                                                                                                 ^\u001b[0m\n\u001b[1;31mSyntaxError\u001b[0m\u001b[1;31m:\u001b[0m invalid syntax\n"
          ]
        }
      ],
      "source": [
        "-------------------------------------------------------------------------------------------------------------"
      ]
    },
    {
      "cell_type": "markdown",
      "id": "13a1ed30",
      "metadata": {
        "id": "13a1ed30"
      },
      "source": [
        "46. Write a Python program to print all happy numbers between 1 and 100."
      ]
    },
    {
      "cell_type": "code",
      "execution_count": null,
      "id": "c74adabb",
      "metadata": {
        "id": "c74adabb",
        "outputId": "4d2268eb-2076-40d0-eced-c313aabe4e62"
      },
      "outputs": [
        {
          "ename": "SyntaxError",
          "evalue": "invalid syntax (2504684040.py, line 1)",
          "output_type": "error",
          "traceback": [
            "\u001b[1;36m  Cell \u001b[1;32mIn[4], line 1\u001b[1;36m\u001b[0m\n\u001b[1;33m    -------------------------------------------------------------------------------------------------------------\u001b[0m\n\u001b[1;37m                                                                                                                 ^\u001b[0m\n\u001b[1;31mSyntaxError\u001b[0m\u001b[1;31m:\u001b[0m invalid syntax\n"
          ]
        }
      ],
      "source": [
        "-------------------------------------------------------------------------------------------------------------"
      ]
    },
    {
      "cell_type": "markdown",
      "id": "8edb0470",
      "metadata": {
        "id": "8edb0470"
      },
      "source": [
        "47. Write a Python program to determine whether the given number is a Harshad\n",
        "Number.\n",
        "\n",
        "#18 is a Harshad number because , and 18 is divisible by 9\n",
        "#42 is not a Harshad number because , and 42 is not divisible by 6.\n"
      ]
    },
    {
      "cell_type": "code",
      "execution_count": null,
      "id": "977e2b50",
      "metadata": {
        "id": "977e2b50",
        "outputId": "12516b91-8dca-400a-df17-0c63a1a29cbe"
      },
      "outputs": [
        {
          "name": "stdout",
          "output_type": "stream",
          "text": [
            "enter a number : 45\n",
            "Harshad Number\n"
          ]
        }
      ],
      "source": [
        "num = input('enter a number : ')\n",
        "\n",
        "total = 0\n",
        "for i in num:\n",
        "    total += int(i)\n",
        "if int(num) % total == 0:\n",
        "    print('Harshad Number')\n",
        "else:\n",
        "    print('Not a Harshad Number')"
      ]
    },
    {
      "cell_type": "markdown",
      "id": "7ab7d1b8",
      "metadata": {
        "id": "7ab7d1b8"
      },
      "source": [
        "48. Write a Python program to print all pronic numbers between 1 and 100"
      ]
    },
    {
      "cell_type": "code",
      "execution_count": null,
      "id": "e0151584",
      "metadata": {
        "id": "e0151584"
      },
      "outputs": [],
      "source": [
        "def pronic_numbers_under(num : int):\n",
        "    result = []\n",
        "    x = 9\n",
        "\n",
        "    for i in range(1,num):\n",
        "            x = i*(i+1)\n",
        "            if x < 100 :\n",
        "                result.append(x)\n",
        "            else:\n",
        "                continue\n",
        "    return result"
      ]
    },
    {
      "cell_type": "code",
      "execution_count": null,
      "id": "cde1b67e",
      "metadata": {
        "id": "cde1b67e",
        "outputId": "9c31851a-5a67-4f7f-ced9-8a3a7753fbf0"
      },
      "outputs": [
        {
          "data": {
            "text/plain": [
              "[2, 6, 12, 20, 30, 42, 56, 72, 90]"
            ]
          },
          "execution_count": 8,
          "metadata": {},
          "output_type": "execute_result"
        }
      ],
      "source": [
        "pronic_numbers_under(100)"
      ]
    },
    {
      "cell_type": "markdown",
      "id": "41b7b050",
      "metadata": {
        "id": "41b7b050"
      },
      "source": [
        "49. Write a Python program to find sum of elements in list."
      ]
    },
    {
      "cell_type": "code",
      "execution_count": null,
      "id": "67a6a508",
      "metadata": {
        "id": "67a6a508"
      },
      "outputs": [],
      "source": [
        "def sum_of_list(list : list):\n",
        "    sum = 0\n",
        "    for i in list:\n",
        "        sum += i\n",
        "    return sum"
      ]
    },
    {
      "cell_type": "code",
      "execution_count": null,
      "id": "455507f3",
      "metadata": {
        "id": "455507f3",
        "outputId": "3825ac5f-084b-495f-8497-37770a522053"
      },
      "outputs": [
        {
          "data": {
            "text/plain": [
              "21"
            ]
          },
          "execution_count": 2,
          "metadata": {},
          "output_type": "execute_result"
        }
      ],
      "source": [
        "sum_of_list([1,2,3,4,5,6])"
      ]
    },
    {
      "cell_type": "markdown",
      "id": "c548b714",
      "metadata": {
        "id": "c548b714"
      },
      "source": [
        "50. Write a Python program to Multiply all numbers in the list."
      ]
    },
    {
      "cell_type": "code",
      "execution_count": null,
      "id": "e8638da1",
      "metadata": {
        "id": "e8638da1"
      },
      "outputs": [],
      "source": [
        "def multiple_of_list(list : list):\n",
        "    multiple = 1\n",
        "    for i in list:\n",
        "        multiple *= i\n",
        "    return multiple"
      ]
    },
    {
      "cell_type": "code",
      "execution_count": null,
      "id": "a75dd9f4",
      "metadata": {
        "id": "a75dd9f4",
        "outputId": "1cae286a-ccbe-40b2-eadc-13a68355358d"
      },
      "outputs": [
        {
          "data": {
            "text/plain": [
              "720"
            ]
          },
          "execution_count": 6,
          "metadata": {},
          "output_type": "execute_result"
        }
      ],
      "source": [
        "multiple_of_list([1,2,3,4,5,6])"
      ]
    },
    {
      "cell_type": "markdown",
      "id": "c976cdfd",
      "metadata": {
        "id": "c976cdfd"
      },
      "source": [
        "51, Write a Python program to find smallest number in a list."
      ]
    },
    {
      "cell_type": "code",
      "execution_count": null,
      "id": "f8d8e554",
      "metadata": {
        "id": "f8d8e554"
      },
      "outputs": [],
      "source": [
        "def smallest_in_list(list:list):\n",
        "    num = list[0]\n",
        "    for i in list:\n",
        "        if i<num:\n",
        "            num = i\n",
        "        else:\n",
        "            continue\n",
        "    return num"
      ]
    },
    {
      "cell_type": "code",
      "execution_count": null,
      "id": "b6942f78",
      "metadata": {
        "id": "b6942f78",
        "outputId": "ded7c079-19d5-4a3d-a2ad-a4d1697269be"
      },
      "outputs": [
        {
          "data": {
            "text/plain": [
              "4"
            ]
          },
          "execution_count": 12,
          "metadata": {},
          "output_type": "execute_result"
        }
      ],
      "source": [
        "smallest_in_list([10,25,33,4,5])"
      ]
    },
    {
      "cell_type": "markdown",
      "id": "700e35f7",
      "metadata": {
        "id": "700e35f7"
      },
      "source": [
        "52. Write a Python program to find largest number in a list."
      ]
    },
    {
      "cell_type": "code",
      "execution_count": null,
      "id": "952c3f3a",
      "metadata": {
        "id": "952c3f3a"
      },
      "outputs": [],
      "source": [
        "def largest_in_list(list:list):\n",
        "    num = list[0]\n",
        "    for i in list:\n",
        "        if i>num:\n",
        "            num = i\n",
        "        else:\n",
        "            continue\n",
        "    return num"
      ]
    },
    {
      "cell_type": "code",
      "execution_count": null,
      "id": "e2027ffb",
      "metadata": {
        "id": "e2027ffb",
        "outputId": "10308c5d-da49-44a8-8992-75ee5f97a0d5"
      },
      "outputs": [
        {
          "data": {
            "text/plain": [
              "823"
            ]
          },
          "execution_count": 15,
          "metadata": {},
          "output_type": "execute_result"
        }
      ],
      "source": [
        "largest_in_list([10,300,98,823])"
      ]
    },
    {
      "cell_type": "markdown",
      "id": "48992b55",
      "metadata": {
        "id": "48992b55"
      },
      "source": [
        "53. Write a Python program to find second largest number in a list.\n"
      ]
    },
    {
      "cell_type": "code",
      "execution_count": null,
      "id": "8df1500d",
      "metadata": {
        "id": "8df1500d"
      },
      "outputs": [],
      "source": [
        "def second_largest(list : list):\n",
        "    list.sort(reverse = True)\n",
        "    if len(list) < 2:\n",
        "        print('list does not contain enough numbers')\n",
        "    else:\n",
        "        return f'the second largest number is : {list[1]}'"
      ]
    },
    {
      "cell_type": "code",
      "execution_count": null,
      "id": "eff10b2a",
      "metadata": {
        "id": "eff10b2a",
        "outputId": "460b05a5-fd4a-45fa-8461-6ce60fef954e"
      },
      "outputs": [
        {
          "data": {
            "text/plain": [
              "'the second largest number is : 89'"
            ]
          },
          "execution_count": 10,
          "metadata": {},
          "output_type": "execute_result"
        }
      ],
      "source": [
        "second_largest([0,8,10,91,89,72,73,48,76,20])"
      ]
    },
    {
      "cell_type": "markdown",
      "id": "fa8117d2",
      "metadata": {
        "id": "fa8117d2"
      },
      "source": [
        "54. Write a Python program to find N largest elements from a list."
      ]
    },
    {
      "cell_type": "code",
      "execution_count": null,
      "id": "d8f412ac",
      "metadata": {
        "id": "d8f412ac"
      },
      "outputs": [],
      "source": [
        "def n_largest_numbers(list : list,n):\n",
        "    list.sort(reverse = True)\n",
        "    if len(list) < n:\n",
        "        print('invalid numbers in a list')\n",
        "    else:\n",
        "        return f'the {n} largest number is : {list[:n]}'"
      ]
    },
    {
      "cell_type": "code",
      "execution_count": null,
      "id": "832a5a6e",
      "metadata": {
        "id": "832a5a6e",
        "outputId": "17c1c95b-ef97-44c4-842c-24b18c60e2c1"
      },
      "outputs": [
        {
          "data": {
            "text/plain": [
              "'the 4 largest number is : [91, 89, 76, 73]'"
            ]
          },
          "execution_count": 13,
          "metadata": {},
          "output_type": "execute_result"
        }
      ],
      "source": [
        "n_largest_numbers([0,8,10,91,89,72,73,48,76,20],4)"
      ]
    },
    {
      "cell_type": "markdown",
      "id": "930b5e3f",
      "metadata": {
        "id": "930b5e3f"
      },
      "source": [
        "55. Write a Python program to print even numbers in a list."
      ]
    },
    {
      "cell_type": "code",
      "execution_count": null,
      "id": "a09be369",
      "metadata": {
        "id": "a09be369"
      },
      "outputs": [],
      "source": [
        "def even_num(list : list):\n",
        "    result = []\n",
        "    for i in list:\n",
        "        if i%2 == 0:\n",
        "            result.append(i)\n",
        "        elif i == 0:\n",
        "            result.append(i)\n",
        "        else:\n",
        "            continue\n",
        "    return result"
      ]
    },
    {
      "cell_type": "code",
      "execution_count": null,
      "id": "63204e93",
      "metadata": {
        "id": "63204e93",
        "outputId": "3f863527-c430-4c03-879f-23cd07d368c0"
      },
      "outputs": [
        {
          "data": {
            "text/plain": [
              "[0, 8, 10, 72, 48, 76, 20]"
            ]
          },
          "execution_count": 30,
          "metadata": {},
          "output_type": "execute_result"
        }
      ],
      "source": [
        "even_num([0,8,10,91,89,72,73,48,76,20])"
      ]
    },
    {
      "cell_type": "markdown",
      "id": "b0ee2666",
      "metadata": {
        "id": "b0ee2666"
      },
      "source": [
        "56. Write a Python program to print odd numbers in a List."
      ]
    },
    {
      "cell_type": "code",
      "execution_count": null,
      "id": "7ebb07ab",
      "metadata": {
        "id": "7ebb07ab"
      },
      "outputs": [],
      "source": [
        "def odd_num(list : list):\n",
        "    result = []\n",
        "    for i in list:\n",
        "        if i%2 == 1:\n",
        "            result.append(i)\n",
        "        elif i == 0:\n",
        "            result.append(i)\n",
        "        else:\n",
        "            continue\n",
        "    return result"
      ]
    },
    {
      "cell_type": "code",
      "execution_count": null,
      "id": "5d5a5089",
      "metadata": {
        "id": "5d5a5089",
        "outputId": "dd6be5c8-d292-4cdc-f812-e66de5d62fad"
      },
      "outputs": [
        {
          "data": {
            "text/plain": [
              "[0, 91, 89, 73]"
            ]
          },
          "execution_count": 32,
          "metadata": {},
          "output_type": "execute_result"
        }
      ],
      "source": [
        "odd_num([0,8,10,91,89,72,73,48,76,20])"
      ]
    },
    {
      "cell_type": "code",
      "execution_count": null,
      "id": "6177affa",
      "metadata": {
        "id": "6177affa",
        "outputId": "4656275f-e6a0-4b5f-82dd-63a8e9deeade"
      },
      "outputs": [
        {
          "data": {
            "text/plain": [
              "[91, 89, 73]"
            ]
          },
          "execution_count": 1,
          "metadata": {},
          "output_type": "execute_result"
        }
      ],
      "source": [
        "numbers = [0,8,10,91,89,72,73,48,76,20]\n",
        "\n",
        "odd = [num for num in numbers if num%2==1]\n",
        "\n",
        "odd"
      ]
    },
    {
      "cell_type": "markdown",
      "id": "2273848b",
      "metadata": {
        "id": "2273848b"
      },
      "source": [
        "57. Write a Python program to Remove empty List from List."
      ]
    },
    {
      "cell_type": "code",
      "execution_count": null,
      "id": "bc35a94e",
      "metadata": {
        "id": "bc35a94e",
        "outputId": "9e4096dd-7012-4c0e-eca4-6d7dcbc488c2"
      },
      "outputs": [
        {
          "data": {
            "text/plain": [
              "[[1, 2, 3], [4, 5], [6, 7, 8]]"
            ]
          },
          "execution_count": 35,
          "metadata": {},
          "output_type": "execute_result"
        }
      ],
      "source": [
        "list_of_lists = [[1, 2, 3], [], [4, 5], [], [6, 7, 8], []]\n",
        "\n",
        "filtered = [i for i in list_of_lists if i]\n",
        "\n",
        "filtered\n",
        "\n"
      ]
    },
    {
      "cell_type": "markdown",
      "id": "aca9209e",
      "metadata": {
        "id": "aca9209e"
      },
      "source": [
        "58. Write a Python program to Cloning or Copying a list"
      ]
    },
    {
      "cell_type": "code",
      "execution_count": null,
      "id": "dd981030",
      "metadata": {
        "id": "dd981030",
        "outputId": "c8009692-d3f7-469e-dcd4-ec9a5f17fd66"
      },
      "outputs": [
        {
          "data": {
            "text/plain": [
              "[1, 2, 3, 4]"
            ]
          },
          "execution_count": 37,
          "metadata": {},
          "output_type": "execute_result"
        }
      ],
      "source": [
        "list = [1, 2, 3, 4]\n",
        "clone_list = list.copy()\n",
        "clone_list"
      ]
    },
    {
      "cell_type": "markdown",
      "id": "b245c883",
      "metadata": {
        "id": "b245c883"
      },
      "source": [
        "59. Write a Python program to Count occurrences of an element in a list"
      ]
    },
    {
      "cell_type": "code",
      "execution_count": null,
      "id": "c40b2406",
      "metadata": {
        "id": "c40b2406",
        "outputId": "f1ff23c0-219e-4d06-c305-0ae592650f80"
      },
      "outputs": [
        {
          "name": "stdout",
          "output_type": "stream",
          "text": [
            "{1: 2, 2: 2, 3: 1, 4: 1, 5: 2, 6: 2, 7: 3, 8: 2, 9: 1}\n"
          ]
        }
      ],
      "source": [
        "elements = [1,2,1,2,3,4,5,6,7,8,9,8,7,5,6,7]\n",
        "\n",
        "sets = dict()\n",
        "\n",
        "for i in elements:\n",
        "    if i in sets:\n",
        "        sets[i] += 1\n",
        "    else:\n",
        "        sets[i] = 1\n",
        "print(sets)"
      ]
    },
    {
      "cell_type": "markdown",
      "id": "739db2b7",
      "metadata": {
        "id": "739db2b7"
      },
      "source": [
        "60. Write a Python program to find words which are greater than given length k."
      ]
    },
    {
      "cell_type": "code",
      "execution_count": null,
      "id": "bef4f1b5",
      "metadata": {
        "id": "bef4f1b5"
      },
      "outputs": [],
      "source": [
        "def greater_than(list:list,k):\n",
        "    result = []\n",
        "    for i in list:\n",
        "        if len(i) > k:\n",
        "            result.append(i)\n",
        "        else:\n",
        "            continue\n",
        "    return result"
      ]
    },
    {
      "cell_type": "code",
      "execution_count": null,
      "id": "75c9191a",
      "metadata": {
        "id": "75c9191a",
        "outputId": "e889efb1-9093-455d-c202-0d8ef49f2333"
      },
      "outputs": [
        {
          "data": {
            "text/plain": [
              "['banana', 'dragonfruit']"
            ]
          },
          "execution_count": 49,
          "metadata": {},
          "output_type": "execute_result"
        }
      ],
      "source": [
        "greater_than(['apple','banana','dragonfruit','kiwi','date'],5)"
      ]
    },
    {
      "cell_type": "markdown",
      "id": "86ade76c",
      "metadata": {
        "id": "86ade76c"
      },
      "source": [
        "61. Write a Python program for removing 𝑖 character from a string."
      ]
    },
    {
      "cell_type": "code",
      "execution_count": null,
      "id": "ceca4475",
      "metadata": {
        "id": "ceca4475"
      },
      "outputs": [],
      "source": [
        "def remove_char(str,i):\n",
        "    if len(str) < i:\n",
        "        print('invalid length of string')\n",
        "    else:\n",
        "        result = str[:i-1] + str[i:]\n",
        "    return result"
      ]
    },
    {
      "cell_type": "code",
      "execution_count": null,
      "id": "6eb105a5",
      "metadata": {
        "id": "6eb105a5",
        "outputId": "f315383d-8ab8-4460-fca8-b7d935a39d63"
      },
      "outputs": [
        {
          "data": {
            "text/plain": [
              "'hello orld'"
            ]
          },
          "execution_count": 69,
          "metadata": {},
          "output_type": "execute_result"
        }
      ],
      "source": [
        "remove_char('hello world',7)"
      ]
    },
    {
      "cell_type": "markdown",
      "id": "250ea9a4",
      "metadata": {
        "id": "250ea9a4"
      },
      "source": [
        "62. Write a Python program to split and join a string."
      ]
    },
    {
      "cell_type": "code",
      "execution_count": null,
      "id": "e841a97b",
      "metadata": {
        "id": "e841a97b"
      },
      "outputs": [],
      "source": [
        "def split_join(str,split='split'):\n",
        "    if split == 'join':\n",
        "        result = \" \".join(str)\n",
        "    else:\n",
        "        result = str.split()\n",
        "    return result"
      ]
    },
    {
      "cell_type": "code",
      "execution_count": null,
      "id": "fe7dc360",
      "metadata": {
        "id": "fe7dc360",
        "outputId": "2dab009c-ec54-43e7-e119-161e4c5ffa36"
      },
      "outputs": [
        {
          "data": {
            "text/plain": [
              "'hello world'"
            ]
          },
          "execution_count": 121,
          "metadata": {},
          "output_type": "execute_result"
        }
      ],
      "source": [
        "split_join(('hello','world'),'join')"
      ]
    },
    {
      "cell_type": "code",
      "execution_count": null,
      "id": "9d5f74c0",
      "metadata": {
        "id": "9d5f74c0",
        "outputId": "b6be1527-a873-41e4-c331-e4e43fa6d6a7"
      },
      "outputs": [
        {
          "data": {
            "text/plain": [
              "['hello', 'i', 'am', 'princy']"
            ]
          },
          "execution_count": 123,
          "metadata": {},
          "output_type": "execute_result"
        }
      ],
      "source": [
        "split_join(('hello i am princy'),'split')"
      ]
    },
    {
      "cell_type": "code",
      "execution_count": null,
      "id": "84a678d1",
      "metadata": {
        "id": "84a678d1",
        "outputId": "a51f9c15-e465-4a56-8cad-26eef7d67097"
      },
      "outputs": [
        {
          "data": {
            "text/plain": [
              "'hello world'"
            ]
          },
          "execution_count": 114,
          "metadata": {},
          "output_type": "execute_result"
        }
      ],
      "source": [
        "string"
      ]
    },
    {
      "cell_type": "markdown",
      "id": "ffe629d1",
      "metadata": {
        "id": "ffe629d1"
      },
      "source": [
        "63. Write a Python program to check if a given string is binary string or not."
      ]
    },
    {
      "cell_type": "code",
      "execution_count": null,
      "id": "0d1081be",
      "metadata": {
        "id": "0d1081be"
      },
      "outputs": [],
      "source": [
        "def str_binary(string:str):\n",
        "    for i in string:\n",
        "        if i not in '01':\n",
        "            return (f'{string} is not binary')\n",
        "    return (f'{string} is binary')"
      ]
    },
    {
      "cell_type": "code",
      "execution_count": null,
      "id": "dd4e51ef",
      "metadata": {
        "id": "dd4e51ef",
        "outputId": "e0c805bb-418e-4660-83ae-7edddcfa67c1"
      },
      "outputs": [
        {
          "data": {
            "text/plain": [
              "'1001001 is binary'"
            ]
          },
          "execution_count": 13,
          "metadata": {},
          "output_type": "execute_result"
        }
      ],
      "source": [
        "str_binary('1001001')"
      ]
    },
    {
      "cell_type": "code",
      "execution_count": null,
      "id": "976c9106",
      "metadata": {
        "id": "976c9106",
        "outputId": "8b173000-9542-4a06-b96a-9e4ce785e23c"
      },
      "outputs": [
        {
          "data": {
            "text/plain": [
              "'princy is not binary'"
            ]
          },
          "execution_count": 14,
          "metadata": {},
          "output_type": "execute_result"
        }
      ],
      "source": [
        "str_binary('princy')"
      ]
    },
    {
      "cell_type": "markdown",
      "id": "c1ed24ef",
      "metadata": {
        "id": "c1ed24ef"
      },
      "source": [
        "64. Write a Python program to find uncommon words from two Strings."
      ]
    },
    {
      "cell_type": "code",
      "execution_count": null,
      "id": "3d3c2299",
      "metadata": {
        "id": "3d3c2299"
      },
      "outputs": [],
      "source": [
        "str1 = 'my name is princy'\n",
        "str2 = 'i am princy'\n",
        "set1 = set(str1.split())\n",
        "set2 = set(str2.split())\n",
        "\n",
        "\n",
        "def uncommon_words(str1 : str, str2:str):\n",
        "    str1,str2 = set(str1.split()),set(str2.split())\n",
        "    uncommon = str1.symmetric_difference(str2)\n",
        "    return uncommon"
      ]
    },
    {
      "cell_type": "code",
      "execution_count": null,
      "id": "0cdb11bf",
      "metadata": {
        "id": "0cdb11bf",
        "outputId": "d771e1f0-8a2b-482e-948b-eefa76177a80"
      },
      "outputs": [
        {
          "data": {
            "text/plain": [
              "{'am', 'i', 'is', 'my', 'name'}"
            ]
          },
          "execution_count": 29,
          "metadata": {},
          "output_type": "execute_result"
        }
      ],
      "source": [
        "uncommon_words('my name is princy','i am princy')"
      ]
    },
    {
      "cell_type": "markdown",
      "id": "6821106d",
      "metadata": {
        "id": "6821106d"
      },
      "source": [
        "65. Write a Python program to find all duplicate characters in string."
      ]
    },
    {
      "cell_type": "code",
      "execution_count": null,
      "id": "0844ca1c",
      "metadata": {
        "id": "0844ca1c"
      },
      "outputs": [],
      "source": [
        "def duplicates(string : str):\n",
        "    duplicate = []\n",
        "    unique = set()\n",
        "    for i in string:\n",
        "        if i in unique:\n",
        "            duplicate.append(i)\n",
        "        else:\n",
        "            unique.add(i)\n",
        "    return duplicate"
      ]
    },
    {
      "cell_type": "code",
      "execution_count": null,
      "id": "e2a659d6",
      "metadata": {
        "id": "e2a659d6",
        "outputId": "3266fd4e-c398-41a2-ff2c-4806c0a1d0d0"
      },
      "outputs": [
        {
          "data": {
            "text/plain": [
              "['s', 'i', 's', 's', 'i', 'p', 'i']"
            ]
          },
          "execution_count": 34,
          "metadata": {},
          "output_type": "execute_result"
        }
      ],
      "source": [
        "duplicates('mississippi')"
      ]
    },
    {
      "cell_type": "markdown",
      "id": "70f38554",
      "metadata": {
        "id": "70f38554"
      },
      "source": [
        "## 66. Write a Python Program to check if a string contains any special character."
      ]
    },
    {
      "cell_type": "code",
      "execution_count": null,
      "id": "be0498da",
      "metadata": {
        "id": "be0498da"
      },
      "outputs": [],
      "source": [
        "def having_special(str:str):\n",
        "    special = '`~!@#$%^&*()-=+_[]|;:\"<>,.?{\\}'\n",
        "    for i in str:\n",
        "        if i in special:\n",
        "            return ('yes, having special characters')\n",
        "    return ('no, not having special characters')\n"
      ]
    },
    {
      "cell_type": "code",
      "execution_count": null,
      "id": "7dc46de3",
      "metadata": {
        "id": "7dc46de3",
        "outputId": "8b509a59-79fd-4b6a-9eaa-146580f5732c"
      },
      "outputs": [
        {
          "data": {
            "text/plain": [
              "'no, not having special characters'"
            ]
          },
          "execution_count": 13,
          "metadata": {},
          "output_type": "execute_result"
        }
      ],
      "source": [
        "having_special('i am princy soni')"
      ]
    },
    {
      "cell_type": "code",
      "execution_count": null,
      "id": "7a6f3f27",
      "metadata": {
        "id": "7a6f3f27",
        "outputId": "618525ca-21b1-456b-e2f4-bfff2104b719"
      },
      "outputs": [
        {
          "data": {
            "text/plain": [
              "'yes, having special characters'"
            ]
          },
          "execution_count": 14,
          "metadata": {},
          "output_type": "execute_result"
        }
      ],
      "source": [
        "having_special('i am princy soni. who are you?')"
      ]
    },
    {
      "cell_type": "markdown",
      "id": "0401c838",
      "metadata": {
        "id": "0401c838"
      },
      "source": [
        "67. Write a Python program to Extract Unique dictionary values."
      ]
    },
    {
      "cell_type": "code",
      "execution_count": null,
      "id": "ca9033e3",
      "metadata": {
        "id": "ca9033e3",
        "outputId": "23ae971c-f0be-48d4-e7d3-58a207876414"
      },
      "outputs": [
        {
          "name": "stdout",
          "output_type": "stream",
          "text": [
            "{12, 13, 14}\n"
          ]
        }
      ],
      "source": [
        "dictionary = {'a':12, 'b':13, 'c':14,'d':12}\n",
        "\n",
        "values = dictionary.values()\n",
        "\n",
        "value_set = set()\n",
        "\n",
        "for i in values:\n",
        "    value_set.add(i)\n",
        "\n",
        "print(value_set)"
      ]
    },
    {
      "cell_type": "markdown",
      "id": "88ad3096",
      "metadata": {
        "id": "88ad3096"
      },
      "source": [
        "68. Write a Python program to find the sum of all items in a dictionary."
      ]
    },
    {
      "cell_type": "code",
      "execution_count": null,
      "id": "7a7bb7ad",
      "metadata": {
        "id": "7a7bb7ad",
        "outputId": "04a21478-de11-422e-89e6-4fbfe74b65b1"
      },
      "outputs": [
        {
          "name": "stdout",
          "output_type": "stream",
          "text": [
            "150\n"
          ]
        }
      ],
      "source": [
        "my_dict = {\n",
        " 'a': 10,\n",
        " 'b': 20,\n",
        " 'c': 30,\n",
        " 'd': 40,\n",
        " 'e': 50\n",
        " }\n",
        "\n",
        "sum = 0\n",
        "\n",
        "for i in my_dict.values():\n",
        "    sum = sum + i\n",
        "print(sum)"
      ]
    },
    {
      "cell_type": "markdown",
      "id": "a30d71f6",
      "metadata": {
        "id": "a30d71f6"
      },
      "source": [
        "69. Write a Python program to Merging two Dictionaries."
      ]
    },
    {
      "cell_type": "code",
      "execution_count": null,
      "id": "fe0ec76d",
      "metadata": {
        "id": "fe0ec76d",
        "outputId": "d3f9cb09-25d6-45b6-f639-41cf4a36c604"
      },
      "outputs": [
        {
          "name": "stdout",
          "output_type": "stream",
          "text": [
            "Addition of two dictionaries is : {'a': 1, 'b': 2, 'c': 3, 'd': 4}\n"
          ]
        }
      ],
      "source": [
        "dict1 = {'a': 1, 'b': 2}\n",
        "dict2 = {'c': 3, 'd': 4}\n",
        "\n",
        "dict1.update(dict2)\n",
        "\n",
        "print(f'Addition of two dictionaries is : {dict1}')"
      ]
    },
    {
      "cell_type": "markdown",
      "id": "04d50d91",
      "metadata": {
        "id": "04d50d91"
      },
      "source": [
        "70. Write a Python program to convert key-values list to flat dictionary."
      ]
    },
    {
      "cell_type": "code",
      "execution_count": null,
      "id": "81381e0c",
      "metadata": {
        "id": "81381e0c",
        "outputId": "2e7ddb4e-b983-48f2-eeb8-f43cab678224"
      },
      "outputs": [
        {
          "data": {
            "text/plain": [
              "{'a': 1, 'b': 2, 'c': 3, 'd': 4}"
            ]
          },
          "execution_count": 27,
          "metadata": {},
          "output_type": "execute_result"
        }
      ],
      "source": [
        "key_values_list = [('a', 1), ('b', 2), ('c', 3), ('d', 4)]\n",
        "\n",
        "new_dict = {}\n",
        "\n",
        "for key,value in key_values_list:\n",
        "    new_dict[key] = value\n",
        "\n",
        "new_dict"
      ]
    },
    {
      "cell_type": "code",
      "execution_count": null,
      "id": "aab6da09",
      "metadata": {
        "id": "aab6da09",
        "outputId": "47ffdd7a-761c-4650-f5de-dab808e11224"
      },
      "outputs": [
        {
          "data": {
            "text/plain": [
              "OrderedDict([('a', 1), ('b', 2), ('c', 3), ('d', 4)])"
            ]
          },
          "execution_count": 34,
          "metadata": {},
          "output_type": "execute_result"
        }
      ],
      "source": [
        "from collections import OrderedDict\n",
        "\n",
        "ordered_dict = OrderedDict([('b', 2), ('c', 3), ('d', 4)])\n",
        "\n",
        "new_item = ('a', 1)\n",
        "\n",
        "new_ordered_dictionary = OrderedDict([new_item])\n",
        "\n",
        "new_ordered_dictionary.update(ordered_dict)\n",
        "\n",
        "new_ordered_dictionary"
      ]
    },
    {
      "cell_type": "markdown",
      "id": "dbed58ee",
      "metadata": {
        "id": "dbed58ee"
      },
      "source": [
        "72. Updated OrderedDict: OrderedDict([('a', 1), ('b', 2), ('c', 3), ('d', 4)]).\n",
        "Write a Python program to check order of character in string using OrderedDict()."
      ]
    },
    {
      "cell_type": "code",
      "execution_count": null,
      "id": "d8bff5d0",
      "metadata": {
        "id": "d8bff5d0"
      },
      "outputs": [],
      "source": []
    }
  ],
  "metadata": {
    "kernelspec": {
      "display_name": "base",
      "language": "python",
      "name": "python3"
    },
    "language_info": {
      "codemirror_mode": {
        "name": "ipython",
        "version": 3
      },
      "file_extension": ".py",
      "mimetype": "text/x-python",
      "name": "python",
      "nbconvert_exporter": "python",
      "pygments_lexer": "ipython3",
      "version": "3.11.5"
    },
    "colab": {
      "provenance": [],
      "include_colab_link": true
    }
  },
  "nbformat": 4,
  "nbformat_minor": 5
}