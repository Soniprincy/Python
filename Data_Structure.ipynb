{
  "cells": [
    {
      "cell_type": "markdown",
      "metadata": {
        "id": "view-in-github",
        "colab_type": "text"
      },
      "source": [
        "<a href=\"https://colab.research.google.com/github/Soniprincy/Python/blob/main/Data_Structure.ipynb\" target=\"_parent\"><img src=\"https://colab.research.google.com/assets/colab-badge.svg\" alt=\"Open In Colab\"/></a>"
      ]
    },
    {
      "cell_type": "markdown",
      "id": "13d5d662",
      "metadata": {
        "id": "13d5d662"
      },
      "source": [
        "<a id='1'></a><center> <h3 style=\"background-color:orange; color:white\" ><br>Python Data Structures<br></h3>"
      ]
    },
    {
      "cell_type": "markdown",
      "id": "ed649190",
      "metadata": {
        "id": "ed649190"
      },
      "source": [
        "# `Types of Data Structures:`\n",
        "* `List` | `Tuple`\n",
        "* `Set` | `Dictionary`"
      ]
    },
    {
      "cell_type": "markdown",
      "id": "d747247c",
      "metadata": {
        "id": "d747247c"
      },
      "source": [
        "|Data Structures type|Mutable|Comments|Indexing|Ordered|Duplicacy|\n",
        "|----|----|----|----|----|----|\n",
        "tuple ()|immutable|immutable version of list| possible|yes |allowed |\n",
        "list []|mutable|-|possible |yes | allowed |\n",
        "set {}|mutable| -|not |no |not |\n",
        "dict {key:value}|mutable|-|possible |no |not  |"
      ]
    },
    {
      "cell_type": "markdown",
      "id": "4aba6e44",
      "metadata": {
        "id": "4aba6e44"
      },
      "source": [
        "💫 `immutable` => `can't be changed` <br>\n",
        "💫 `mutable` => `can be changed`"
      ]
    },
    {
      "cell_type": "code",
      "execution_count": null,
      "id": "d6c73090",
      "metadata": {
        "id": "d6c73090"
      },
      "outputs": [],
      "source": []
    },
    {
      "cell_type": "markdown",
      "id": "51098b80",
      "metadata": {
        "id": "51098b80"
      },
      "source": [
        "## Lists\n",
        "\n"
      ]
    },
    {
      "cell_type": "markdown",
      "id": "706688da",
      "metadata": {
        "id": "706688da"
      },
      "source": [
        "### Create an empty list with the name ‘a’, print the value of a and type(a).\n"
      ]
    },
    {
      "cell_type": "code",
      "execution_count": 1,
      "id": "187a029c",
      "metadata": {
        "id": "187a029c"
      },
      "outputs": [],
      "source": [
        "# create empty list, name it 'a'\n",
        "a = []"
      ]
    },
    {
      "cell_type": "code",
      "execution_count": 2,
      "id": "e0b6879d",
      "metadata": {
        "id": "e0b6879d",
        "outputId": "78c6e344-e755-4de2-d0fa-251939057f3a",
        "colab": {
          "base_uri": "https://localhost:8080/"
        }
      },
      "outputs": [
        {
          "output_type": "execute_result",
          "data": {
            "text/plain": [
              "[]"
            ]
          },
          "metadata": {},
          "execution_count": 2
        }
      ],
      "source": [
        "# print the value of a\n",
        "\n",
        "a"
      ]
    },
    {
      "cell_type": "code",
      "execution_count": 3,
      "id": "8fcc7948",
      "metadata": {
        "id": "8fcc7948",
        "outputId": "c9701cff-ae52-4660-9997-d6d0bc69b557",
        "colab": {
          "base_uri": "https://localhost:8080/"
        }
      },
      "outputs": [
        {
          "output_type": "execute_result",
          "data": {
            "text/plain": [
              "list"
            ]
          },
          "metadata": {},
          "execution_count": 3
        }
      ],
      "source": [
        "# print the type of a\n",
        "type(a)"
      ]
    },
    {
      "cell_type": "markdown",
      "id": "5d99edef",
      "metadata": {
        "id": "5d99edef"
      },
      "source": [
        "### Create a list , languages = ['R','Python', 'SAS', 'Scala', 42],"
      ]
    },
    {
      "cell_type": "code",
      "execution_count": 4,
      "id": "485e622f",
      "metadata": {
        "id": "485e622f"
      },
      "outputs": [],
      "source": [
        "languages = ['R','Python', 'SAS', 'Scala', 42]"
      ]
    },
    {
      "cell_type": "markdown",
      "id": "fffd01b1",
      "metadata": {
        "id": "fffd01b1"
      },
      "source": [
        "Print the number of elements in the list"
      ]
    },
    {
      "cell_type": "code",
      "execution_count": 5,
      "id": "f74997e7",
      "metadata": {
        "id": "f74997e7",
        "outputId": "3714f339-56ac-4462-b6a3-ce3cea358495",
        "colab": {
          "base_uri": "https://localhost:8080/"
        }
      },
      "outputs": [
        {
          "output_type": "execute_result",
          "data": {
            "text/plain": [
              "5"
            ]
          },
          "metadata": {},
          "execution_count": 5
        }
      ],
      "source": [
        "len(languages)"
      ]
    },
    {
      "cell_type": "markdown",
      "id": "bb12f937",
      "metadata": {
        "id": "bb12f937"
      },
      "source": [
        "Using for loop iterate and print all the elements in the list"
      ]
    },
    {
      "cell_type": "code",
      "execution_count": 6,
      "id": "5b6bd7f7",
      "metadata": {
        "id": "5b6bd7f7",
        "outputId": "c01146f3-cba0-4853-8a02-01ab351f98dd",
        "colab": {
          "base_uri": "https://localhost:8080/"
        }
      },
      "outputs": [
        {
          "output_type": "stream",
          "name": "stdout",
          "text": [
            "R\n",
            "Python\n",
            "SAS\n",
            "Scala\n",
            "42\n"
          ]
        }
      ],
      "source": [
        "for i in languages:\n",
        "    print(i)\n",
        "\n"
      ]
    },
    {
      "cell_type": "markdown",
      "id": "11a1e2c1",
      "metadata": {
        "id": "11a1e2c1"
      },
      "source": [
        "Select the second item, 'Python' and store it in a new variable named 'temp'"
      ]
    },
    {
      "cell_type": "code",
      "execution_count": 7,
      "id": "193cf13b",
      "metadata": {
        "id": "193cf13b"
      },
      "outputs": [],
      "source": [
        "temp = languages[1]"
      ]
    },
    {
      "cell_type": "markdown",
      "id": "4a98ec74",
      "metadata": {
        "id": "4a98ec74"
      },
      "source": [
        "Print the value of temp and type(temp)"
      ]
    },
    {
      "cell_type": "code",
      "execution_count": 8,
      "id": "ac35466f",
      "metadata": {
        "id": "ac35466f",
        "outputId": "20612da4-0641-4de6-e07c-d15085330759",
        "colab": {
          "base_uri": "https://localhost:8080/"
        }
      },
      "outputs": [
        {
          "output_type": "stream",
          "name": "stdout",
          "text": [
            "value : Python , type : <class 'str'>\n"
          ]
        }
      ],
      "source": [
        "print(f'value : {temp} , type : {type(temp)}')\n",
        "\n"
      ]
    },
    {
      "cell_type": "markdown",
      "id": "ea1d8b45",
      "metadata": {
        "id": "ea1d8b45"
      },
      "source": [
        "Append the element 'Java' in the list"
      ]
    },
    {
      "cell_type": "code",
      "execution_count": 9,
      "id": "8c18b2c7",
      "metadata": {
        "id": "8c18b2c7",
        "colab": {
          "base_uri": "https://localhost:8080/"
        },
        "outputId": "4debf46c-c238-4122-834d-ef661b695a78"
      },
      "outputs": [
        {
          "output_type": "execute_result",
          "data": {
            "text/plain": [
              "['R', 'Python', 'SAS', 'Scala', 42, 'Java']"
            ]
          },
          "metadata": {},
          "execution_count": 9
        }
      ],
      "source": [
        "languages.append('Java')\n",
        "languages"
      ]
    },
    {
      "cell_type": "markdown",
      "id": "70a42188",
      "metadata": {
        "id": "70a42188"
      },
      "source": [
        "Remove the element 42 from the list and print the list"
      ]
    },
    {
      "cell_type": "code",
      "execution_count": 10,
      "id": "341f1dbf",
      "metadata": {
        "id": "341f1dbf",
        "outputId": "04ff0ec9-5d01-4b0b-a456-3703b43f950f",
        "colab": {
          "base_uri": "https://localhost:8080/"
        }
      },
      "outputs": [
        {
          "output_type": "execute_result",
          "data": {
            "text/plain": [
              "['R', 'Python', 'SAS', 'Scala', 'Java']"
            ]
          },
          "metadata": {},
          "execution_count": 10
        }
      ],
      "source": [
        "languages.remove(42)\n",
        "languages\n",
        "\n"
      ]
    },
    {
      "cell_type": "markdown",
      "id": "d6d725fd",
      "metadata": {
        "id": "d6d725fd"
      },
      "source": [
        "### Create a list, colors = [‘Red’, ‘Blue’, ‘White’]"
      ]
    },
    {
      "cell_type": "code",
      "execution_count": 11,
      "id": "acd827f5",
      "metadata": {
        "id": "acd827f5"
      },
      "outputs": [],
      "source": [
        "colors = ['Red', 'Blue', 'White']"
      ]
    },
    {
      "cell_type": "markdown",
      "id": "0d86dbc1",
      "metadata": {
        "id": "0d86dbc1"
      },
      "source": [
        "Append the element 'Black' to colors"
      ]
    },
    {
      "cell_type": "code",
      "execution_count": 12,
      "id": "a93ae39c",
      "metadata": {
        "id": "a93ae39c",
        "colab": {
          "base_uri": "https://localhost:8080/"
        },
        "outputId": "1306b105-a468-4196-f90d-a7165bf58261"
      },
      "outputs": [
        {
          "output_type": "execute_result",
          "data": {
            "text/plain": [
              "['Red', 'Blue', 'White', 'Black']"
            ]
          },
          "metadata": {},
          "execution_count": 12
        }
      ],
      "source": [
        "colors.append('Black')\n",
        "colors\n"
      ]
    },
    {
      "cell_type": "markdown",
      "id": "1ce4768b",
      "metadata": {
        "id": "1ce4768b"
      },
      "source": [
        "Append the color 'Orange' to second position (index=1) and print the list"
      ]
    },
    {
      "cell_type": "code",
      "execution_count": 13,
      "id": "68866db0",
      "metadata": {
        "id": "68866db0",
        "colab": {
          "base_uri": "https://localhost:8080/"
        },
        "outputId": "4b6291cc-9e5e-4c74-ee65-5d38055dbc5e"
      },
      "outputs": [
        {
          "output_type": "execute_result",
          "data": {
            "text/plain": [
              "['Red', 'Orange', 'Blue', 'White', 'Black']"
            ]
          },
          "metadata": {},
          "execution_count": 13
        }
      ],
      "source": [
        "colors.insert(1,'Orange')\n",
        "colors\n"
      ]
    },
    {
      "cell_type": "markdown",
      "id": "0c35df6e",
      "metadata": {
        "id": "0c35df6e"
      },
      "source": [
        "Print the list\n"
      ]
    },
    {
      "cell_type": "code",
      "execution_count": 14,
      "id": "ecd819a0",
      "metadata": {
        "id": "ecd819a0",
        "outputId": "343fd332-1d6e-4505-cb79-be7381da7b17",
        "colab": {
          "base_uri": "https://localhost:8080/"
        }
      },
      "outputs": [
        {
          "output_type": "execute_result",
          "data": {
            "text/plain": [
              "['Red', 'Orange', 'Blue', 'White', 'Black']"
            ]
          },
          "metadata": {},
          "execution_count": 14
        }
      ],
      "source": [
        "colors"
      ]
    },
    {
      "cell_type": "markdown",
      "id": "4e920bb0",
      "metadata": {
        "id": "4e920bb0"
      },
      "source": [
        "Create another list, colors2 = [‘Grey’, ‘Sky Blue’]"
      ]
    },
    {
      "cell_type": "code",
      "execution_count": 15,
      "id": "13e6883e",
      "metadata": {
        "id": "13e6883e"
      },
      "outputs": [],
      "source": [
        "colors2 = ['Grey', 'Sky Blue']"
      ]
    },
    {
      "cell_type": "markdown",
      "id": "5056b2f4",
      "metadata": {
        "id": "5056b2f4"
      },
      "source": [
        "Add the elements of colors2 to colors using extend function in the list"
      ]
    },
    {
      "cell_type": "code",
      "execution_count": 16,
      "id": "d78cd06c",
      "metadata": {
        "id": "d78cd06c",
        "colab": {
          "base_uri": "https://localhost:8080/"
        },
        "outputId": "c7571c10-eeb4-44a0-91eb-c59497b9220e"
      },
      "outputs": [
        {
          "output_type": "execute_result",
          "data": {
            "text/plain": [
              "['Red', 'Orange', 'Blue', 'White', 'Black', 'Grey', 'Sky Blue']"
            ]
          },
          "metadata": {},
          "execution_count": 16
        }
      ],
      "source": [
        "colors.extend(colors2)\n",
        "colors"
      ]
    },
    {
      "cell_type": "markdown",
      "id": "30464ad4",
      "metadata": {
        "id": "30464ad4"
      },
      "source": [
        "Print len of colors and its elements"
      ]
    },
    {
      "cell_type": "code",
      "execution_count": 17,
      "id": "f92c5905",
      "metadata": {
        "id": "f92c5905",
        "outputId": "aca27b73-19f7-4669-fac7-9c0e2019a9ee",
        "colab": {
          "base_uri": "https://localhost:8080/"
        }
      },
      "outputs": [
        {
          "output_type": "stream",
          "name": "stdout",
          "text": [
            "length : 7 , elements = ['Red', 'Orange', 'Blue', 'White', 'Black', 'Grey', 'Sky Blue']\n"
          ]
        }
      ],
      "source": [
        "print(f'length : {len(colors)} , elements = {colors}')\n",
        "\n"
      ]
    },
    {
      "cell_type": "markdown",
      "id": "f9817238",
      "metadata": {
        "id": "f9817238"
      },
      "source": [
        "Sort the list and print it."
      ]
    },
    {
      "cell_type": "code",
      "execution_count": 18,
      "id": "5d3125a1",
      "metadata": {
        "id": "5d3125a1",
        "outputId": "1b466c8e-e087-4457-af43-832acde88dfb",
        "colab": {
          "base_uri": "https://localhost:8080/"
        }
      },
      "outputs": [
        {
          "output_type": "execute_result",
          "data": {
            "text/plain": [
              "['Black', 'Blue', 'Grey', 'Orange', 'Red', 'Sky Blue', 'White']"
            ]
          },
          "metadata": {},
          "execution_count": 18
        }
      ],
      "source": [
        "colors.sort()\n",
        "colors\n"
      ]
    },
    {
      "cell_type": "markdown",
      "id": "66b93431",
      "metadata": {
        "id": "66b93431"
      },
      "source": [
        "### Create a string, sent = ‘Coronavirus Caused Lockdowns Around The World.”"
      ]
    },
    {
      "cell_type": "code",
      "execution_count": 19,
      "id": "326bcfe3",
      "metadata": {
        "id": "326bcfe3"
      },
      "outputs": [],
      "source": [
        "sent = 'Coronavirus Caused Lockdowns Around The World.'"
      ]
    },
    {
      "cell_type": "markdown",
      "id": "808fbd36",
      "metadata": {
        "id": "808fbd36"
      },
      "source": [
        "Use split function to convert the string into a list of words and save it in variable words and print the same"
      ]
    },
    {
      "cell_type": "code",
      "execution_count": 20,
      "id": "299b39e7",
      "metadata": {
        "id": "299b39e7",
        "outputId": "251a2bed-dfff-4765-e643-3f2e62d252e4",
        "colab": {
          "base_uri": "https://localhost:8080/"
        }
      },
      "outputs": [
        {
          "output_type": "execute_result",
          "data": {
            "text/plain": [
              "['Coronavirus', 'Caused', 'Lockdowns', 'Around', 'The', 'World.']"
            ]
          },
          "metadata": {},
          "execution_count": 20
        }
      ],
      "source": [
        "words = list(sent.split(' '))\n",
        "words\n"
      ]
    },
    {
      "cell_type": "markdown",
      "id": "2d3e2af5",
      "metadata": {
        "id": "2d3e2af5"
      },
      "source": [
        "Convert each word in the list to lower case and store it in variable words_lower.\n",
        "Print words_lower"
      ]
    },
    {
      "cell_type": "code",
      "execution_count": 21,
      "id": "2f64cb88",
      "metadata": {
        "id": "2f64cb88",
        "outputId": "da1038f2-2e7c-4011-baa2-8391978319bc",
        "colab": {
          "base_uri": "https://localhost:8080/"
        }
      },
      "outputs": [
        {
          "output_type": "execute_result",
          "data": {
            "text/plain": [
              "['coronavirus', 'caused', 'lockdowns', 'around', 'the', 'world.']"
            ]
          },
          "metadata": {},
          "execution_count": 21
        }
      ],
      "source": [
        "words_lower = []\n",
        "for i in words:\n",
        "    words_lower.append(i.lower())\n",
        "words_lower\n"
      ]
    },
    {
      "cell_type": "markdown",
      "id": "eba411a6",
      "metadata": {
        "id": "eba411a6"
      },
      "source": [
        "Check whether ‘country’ is in the list"
      ]
    },
    {
      "cell_type": "code",
      "execution_count": 22,
      "id": "05ff37d5",
      "metadata": {
        "id": "05ff37d5",
        "outputId": "230e280d-9087-4cdd-a7d4-c4faba3d5408",
        "colab": {
          "base_uri": "https://localhost:8080/"
        }
      },
      "outputs": [
        {
          "output_type": "execute_result",
          "data": {
            "text/plain": [
              "False"
            ]
          },
          "metadata": {},
          "execution_count": 22
        }
      ],
      "source": [
        "'country' in words_lower"
      ]
    },
    {
      "cell_type": "markdown",
      "id": "4ba9aa8f",
      "metadata": {
        "id": "4ba9aa8f"
      },
      "source": [
        "Remove the element ‘the’ from the list and print the list."
      ]
    },
    {
      "cell_type": "code",
      "execution_count": 23,
      "id": "f0eb5c0d",
      "metadata": {
        "id": "f0eb5c0d",
        "outputId": "463d36d7-7a68-44ee-dcef-0976bf9bcf88",
        "colab": {
          "base_uri": "https://localhost:8080/"
        }
      },
      "outputs": [
        {
          "output_type": "execute_result",
          "data": {
            "text/plain": [
              "['coronavirus', 'caused', 'lockdowns', 'around', 'world.']"
            ]
          },
          "metadata": {},
          "execution_count": 23
        }
      ],
      "source": [
        "words_lower.remove('the')\n",
        "words_lower\n",
        "\n"
      ]
    },
    {
      "cell_type": "markdown",
      "id": "2fc459f2",
      "metadata": {
        "id": "2fc459f2"
      },
      "source": [
        "Select the first 4 words from the list words_lower using slicing and store them in a new variable x4"
      ]
    },
    {
      "cell_type": "code",
      "execution_count": 24,
      "id": "25400770",
      "metadata": {
        "id": "25400770",
        "colab": {
          "base_uri": "https://localhost:8080/"
        },
        "outputId": "3d932ac7-627d-491b-be82-98d48b209676"
      },
      "outputs": [
        {
          "output_type": "execute_result",
          "data": {
            "text/plain": [
              "['coronavirus', 'caused', 'lockdowns', 'around']"
            ]
          },
          "metadata": {},
          "execution_count": 24
        }
      ],
      "source": [
        "x4 = words_lower[0:4]\n",
        "x4"
      ]
    },
    {
      "cell_type": "code",
      "execution_count": 25,
      "id": "4e52e720",
      "metadata": {
        "id": "4e52e720",
        "outputId": "1fcf89fa-3027-435e-a4c2-3eb1dbd135eb",
        "colab": {
          "base_uri": "https://localhost:8080/"
        }
      },
      "outputs": [
        {
          "output_type": "stream",
          "name": "stdout",
          "text": [
            "['coronavirus', 'caused', 'lockdowns', 'around']\n"
          ]
        }
      ],
      "source": [
        "# print x4\n",
        "print(x4)"
      ]
    },
    {
      "cell_type": "markdown",
      "id": "3a5d4ec3",
      "metadata": {
        "id": "3a5d4ec3"
      },
      "source": [
        "Convert the list of elements to single string using join function and print it"
      ]
    },
    {
      "cell_type": "code",
      "execution_count": 26,
      "id": "623e6b13",
      "metadata": {
        "id": "623e6b13",
        "outputId": "cd3c7633-daeb-4f5a-af69-8adabaa82658",
        "colab": {
          "base_uri": "https://localhost:8080/",
          "height": 36
        }
      },
      "outputs": [
        {
          "output_type": "execute_result",
          "data": {
            "text/plain": [
              "'  coronavirus caused lockdowns around'"
            ],
            "application/vnd.google.colaboratory.intrinsic+json": {
              "type": "string"
            }
          },
          "metadata": {},
          "execution_count": 26
        }
      ],
      "source": [
        "add = ' '\n",
        "for i in x4:\n",
        "    add += ' ' + i\n",
        "add\n"
      ]
    },
    {
      "cell_type": "markdown",
      "id": "7ec748ad",
      "metadata": {
        "id": "7ec748ad"
      },
      "source": [
        "## Sets"
      ]
    },
    {
      "cell_type": "markdown",
      "id": "310dae89",
      "metadata": {
        "id": "310dae89"
      },
      "source": [
        "### Create stud_grades = ['A','A','B','C','C','F']"
      ]
    },
    {
      "cell_type": "code",
      "execution_count": 27,
      "id": "6df15296",
      "metadata": {
        "id": "6df15296"
      },
      "outputs": [],
      "source": [
        "stud_grades = ['A','A','B','C','C','F']"
      ]
    },
    {
      "cell_type": "markdown",
      "id": "ba9c7730",
      "metadata": {
        "id": "ba9c7730"
      },
      "source": [
        "Print the len of stud_grades"
      ]
    },
    {
      "cell_type": "code",
      "execution_count": 28,
      "id": "a03e471d",
      "metadata": {
        "id": "a03e471d",
        "outputId": "a690588b-8f1b-4bc1-cd5a-8de8eb28e351",
        "colab": {
          "base_uri": "https://localhost:8080/"
        }
      },
      "outputs": [
        {
          "output_type": "execute_result",
          "data": {
            "text/plain": [
              "6"
            ]
          },
          "metadata": {},
          "execution_count": 28
        }
      ],
      "source": [
        "len(stud_grades)\n",
        "\n"
      ]
    },
    {
      "cell_type": "markdown",
      "id": "1af64b38",
      "metadata": {
        "id": "1af64b38"
      },
      "source": [
        "Create a new variable, stud_grades_set = set(stud_grades)"
      ]
    },
    {
      "cell_type": "code",
      "execution_count": 29,
      "id": "d58eaa07",
      "metadata": {
        "id": "d58eaa07"
      },
      "outputs": [],
      "source": [
        "stud_grades_set = set(stud_grades)"
      ]
    },
    {
      "cell_type": "markdown",
      "id": "09346674",
      "metadata": {
        "id": "09346674"
      },
      "source": [
        "Print stud_grades_set."
      ]
    },
    {
      "cell_type": "code",
      "execution_count": 30,
      "id": "d0d2fa73",
      "metadata": {
        "id": "d0d2fa73",
        "outputId": "a1c87399-e2e8-4bbe-c70b-872834f34fdc",
        "colab": {
          "base_uri": "https://localhost:8080/"
        }
      },
      "outputs": [
        {
          "output_type": "execute_result",
          "data": {
            "text/plain": [
              "{'A', 'B', 'C', 'F'}"
            ]
          },
          "metadata": {},
          "execution_count": 30
        }
      ],
      "source": [
        "stud_grades_set\n",
        "\n"
      ]
    },
    {
      "cell_type": "markdown",
      "id": "94c40483",
      "metadata": {
        "id": "94c40483"
      },
      "source": [
        "print the type of stud_grades and stud_grades_set and print their corresponding elements. Try to understand the difference between them."
      ]
    },
    {
      "cell_type": "code",
      "execution_count": 31,
      "id": "234cd928",
      "metadata": {
        "id": "234cd928",
        "outputId": "c92e623b-873a-4502-e0ae-760d80a75fb6",
        "colab": {
          "base_uri": "https://localhost:8080/"
        }
      },
      "outputs": [
        {
          "output_type": "stream",
          "name": "stdout",
          "text": [
            "type : <class 'list'> , elements : {'F', 'B', 'C', 'A'}\n"
          ]
        }
      ],
      "source": [
        "print(f'type : {type(stud_grades)} , elements : {stud_grades_set}')\n",
        "\n",
        "\n"
      ]
    },
    {
      "cell_type": "markdown",
      "id": "c996bf3a",
      "metadata": {
        "id": "c996bf3a"
      },
      "source": [
        "Add a new element ‘G’ to stud_grades_set"
      ]
    },
    {
      "cell_type": "code",
      "execution_count": 32,
      "id": "02108b26",
      "metadata": {
        "id": "02108b26",
        "colab": {
          "base_uri": "https://localhost:8080/"
        },
        "outputId": "04e3392f-2201-4547-8774-4796d96190a5"
      },
      "outputs": [
        {
          "output_type": "execute_result",
          "data": {
            "text/plain": [
              "{'A', 'B', 'C', 'F', 'G'}"
            ]
          },
          "metadata": {},
          "execution_count": 32
        }
      ],
      "source": [
        "stud_grades_set.add('G')\n",
        "stud_grades_set"
      ]
    },
    {
      "cell_type": "markdown",
      "id": "73ce78ea",
      "metadata": {
        "id": "73ce78ea"
      },
      "source": [
        "Add element 'F' to stud_grades_set. and print it."
      ]
    },
    {
      "cell_type": "code",
      "execution_count": 33,
      "id": "75869f0b",
      "metadata": {
        "id": "75869f0b",
        "outputId": "5d5aa025-d6d1-4ced-c236-4d8e89990619",
        "colab": {
          "base_uri": "https://localhost:8080/"
        }
      },
      "outputs": [
        {
          "output_type": "execute_result",
          "data": {
            "text/plain": [
              "{'A', 'B', 'C', 'F', 'G'}"
            ]
          },
          "metadata": {},
          "execution_count": 33
        }
      ],
      "source": [
        "stud_grades_set.add('F')\n",
        "stud_grades_set\n",
        "\n"
      ]
    },
    {
      "cell_type": "markdown",
      "id": "20314a17",
      "metadata": {
        "id": "20314a17"
      },
      "source": [
        "!!Did you notice? set doesn't add an element if it's already present in it, unlike lists."
      ]
    },
    {
      "cell_type": "markdown",
      "id": "515c4389",
      "metadata": {
        "id": "515c4389"
      },
      "source": [
        "Remove ‘F’ from stud_grades_set"
      ]
    },
    {
      "cell_type": "code",
      "execution_count": 34,
      "id": "72b014f8",
      "metadata": {
        "id": "72b014f8",
        "colab": {
          "base_uri": "https://localhost:8080/"
        },
        "outputId": "2a637eec-0d96-4129-8480-70547e7b164a"
      },
      "outputs": [
        {
          "output_type": "execute_result",
          "data": {
            "text/plain": [
              "{'A', 'B', 'C', 'G'}"
            ]
          },
          "metadata": {},
          "execution_count": 34
        }
      ],
      "source": [
        "stud_grades_set.discard('F')\n",
        "stud_grades_set"
      ]
    },
    {
      "cell_type": "markdown",
      "id": "4719752e",
      "metadata": {
        "id": "4719752e"
      },
      "source": [
        "Print the elements and the length of stud_grades_set"
      ]
    },
    {
      "cell_type": "code",
      "execution_count": 35,
      "id": "ca287010",
      "metadata": {
        "id": "ca287010",
        "outputId": "267160ca-6405-4ab6-8ef4-0e327a523dc9",
        "colab": {
          "base_uri": "https://localhost:8080/"
        }
      },
      "outputs": [
        {
          "output_type": "stream",
          "name": "stdout",
          "text": [
            "elements : {'G', 'A', 'C', 'B'} , length : 4\n"
          ]
        }
      ],
      "source": [
        "print(f'elements : {stud_grades_set} , length : {len(stud_grades_set)}')\n",
        "\n"
      ]
    },
    {
      "cell_type": "markdown",
      "id": "a61c0184",
      "metadata": {
        "id": "a61c0184"
      },
      "source": [
        "### Create colors = [‘red’,’blue’,’orange’], and fruits = [‘orange’,’grapes’,’apples’]"
      ]
    },
    {
      "cell_type": "code",
      "execution_count": 36,
      "id": "320df1ec",
      "metadata": {
        "id": "320df1ec"
      },
      "outputs": [],
      "source": [
        "colors = ['red','blue','orange']\n",
        "fruits = ['orange','grapes','apples']"
      ]
    },
    {
      "cell_type": "markdown",
      "id": "690d65f2",
      "metadata": {
        "id": "690d65f2"
      },
      "source": [
        "Print color and fruits"
      ]
    },
    {
      "cell_type": "code",
      "execution_count": 37,
      "id": "c2cde89d",
      "metadata": {
        "id": "c2cde89d",
        "outputId": "03656909-aaf3-4213-caf2-7d8b1c38b94b",
        "colab": {
          "base_uri": "https://localhost:8080/"
        }
      },
      "outputs": [
        {
          "output_type": "stream",
          "name": "stdout",
          "text": [
            "colors : ['red', 'blue', 'orange']\n",
            "fruits : ['orange', 'grapes', 'apples']\n"
          ]
        }
      ],
      "source": [
        "print(f'colors : {colors}')\n",
        "print(f'fruits : {fruits}')"
      ]
    },
    {
      "cell_type": "markdown",
      "id": "c056a061",
      "metadata": {
        "id": "c056a061"
      },
      "source": [
        "Create colors_set, and fruits_set. (using set() ) and print them"
      ]
    },
    {
      "cell_type": "code",
      "execution_count": 38,
      "id": "50d2d338",
      "metadata": {
        "id": "50d2d338"
      },
      "outputs": [],
      "source": [
        "colors_set = set(colors)\n",
        "fruits_set = set(fruits)"
      ]
    },
    {
      "cell_type": "markdown",
      "id": "18a3541a",
      "metadata": {
        "id": "18a3541a"
      },
      "source": [
        "Find the union of both the sets."
      ]
    },
    {
      "cell_type": "code",
      "execution_count": 39,
      "id": "c1fd208a",
      "metadata": {
        "id": "c1fd208a",
        "outputId": "24d64df2-a375-4df7-afe5-cf8e3904fc8a",
        "colab": {
          "base_uri": "https://localhost:8080/"
        }
      },
      "outputs": [
        {
          "output_type": "execute_result",
          "data": {
            "text/plain": [
              "{'apples', 'blue', 'grapes', 'orange', 'red'}"
            ]
          },
          "metadata": {},
          "execution_count": 39
        }
      ],
      "source": [
        "colors_set.union(fruits_set)\n",
        "\n"
      ]
    },
    {
      "cell_type": "markdown",
      "id": "b4b6d2e1",
      "metadata": {
        "id": "b4b6d2e1"
      },
      "source": [
        "Find the intersection of both the sets"
      ]
    },
    {
      "cell_type": "code",
      "execution_count": 40,
      "id": "987a8e20",
      "metadata": {
        "id": "987a8e20",
        "outputId": "058fd63b-1cc7-40a7-f1d0-f279347da8a2",
        "colab": {
          "base_uri": "https://localhost:8080/"
        }
      },
      "outputs": [
        {
          "output_type": "execute_result",
          "data": {
            "text/plain": [
              "{'orange'}"
            ]
          },
          "metadata": {},
          "execution_count": 40
        }
      ],
      "source": [
        "colors_set.intersection(fruits_set)\n",
        "\n"
      ]
    },
    {
      "cell_type": "markdown",
      "id": "6e8c0586",
      "metadata": {
        "id": "6e8c0586"
      },
      "source": [
        "Find the elements which are Fruits but not colors (using set.difference() )"
      ]
    },
    {
      "cell_type": "code",
      "execution_count": 41,
      "id": "6f126292",
      "metadata": {
        "id": "6f126292",
        "outputId": "cc3c6218-8bba-4c92-c48d-84111ad85436",
        "colab": {
          "base_uri": "https://localhost:8080/"
        }
      },
      "outputs": [
        {
          "output_type": "execute_result",
          "data": {
            "text/plain": [
              "{'apples', 'grapes'}"
            ]
          },
          "metadata": {},
          "execution_count": 41
        }
      ],
      "source": [
        "fruits_set.difference(colors_set)\n",
        "\n"
      ]
    },
    {
      "cell_type": "code",
      "execution_count": 41,
      "id": "0bb58c66",
      "metadata": {
        "id": "0bb58c66"
      },
      "outputs": [],
      "source": []
    },
    {
      "cell_type": "markdown",
      "id": "0222af6f",
      "metadata": {
        "id": "0222af6f"
      },
      "source": [
        "## TUPLES"
      ]
    },
    {
      "cell_type": "markdown",
      "id": "63f0c2de",
      "metadata": {
        "id": "63f0c2de"
      },
      "source": [
        "### Create temp = [17, ’Virat’, 50.0]"
      ]
    },
    {
      "cell_type": "code",
      "execution_count": 42,
      "id": "b89152fb",
      "metadata": {
        "id": "b89152fb"
      },
      "outputs": [],
      "source": [
        "temp = [17, 'Virat', 50.0]"
      ]
    },
    {
      "cell_type": "markdown",
      "id": "7f2fca31",
      "metadata": {
        "id": "7f2fca31"
      },
      "source": [
        "Iterate through temp and print all the items in temp"
      ]
    },
    {
      "cell_type": "code",
      "execution_count": 43,
      "id": "7d337304",
      "metadata": {
        "id": "7d337304",
        "outputId": "036f5ed3-039f-45ae-986b-94049e512873",
        "colab": {
          "base_uri": "https://localhost:8080/"
        }
      },
      "outputs": [
        {
          "output_type": "stream",
          "name": "stdout",
          "text": [
            "17\n",
            "Virat\n",
            "50.0\n"
          ]
        }
      ],
      "source": [
        "for i in temp:\n",
        "    print(i)\n"
      ]
    },
    {
      "cell_type": "markdown",
      "id": "25befda3",
      "metadata": {
        "id": "25befda3"
      },
      "source": [
        "replace first element with 11 in temp"
      ]
    },
    {
      "cell_type": "code",
      "execution_count": 44,
      "id": "a6e0ae16",
      "metadata": {
        "id": "a6e0ae16",
        "colab": {
          "base_uri": "https://localhost:8080/"
        },
        "outputId": "93427c9d-128c-4809-b529-d4423fcc4d59"
      },
      "outputs": [
        {
          "output_type": "execute_result",
          "data": {
            "text/plain": [
              "[11, 'Virat', 50.0]"
            ]
          },
          "metadata": {},
          "execution_count": 44
        }
      ],
      "source": [
        "temp[0] = 11\n",
        "temp"
      ]
    },
    {
      "cell_type": "markdown",
      "id": "645f1b0b",
      "metadata": {
        "id": "645f1b0b"
      },
      "source": [
        "Set temp1 = tuple(temp)"
      ]
    },
    {
      "cell_type": "code",
      "execution_count": 45,
      "id": "22d31769",
      "metadata": {
        "colab": {
          "base_uri": "https://localhost:8080/"
        },
        "id": "22d31769",
        "outputId": "d73bc083-57c7-4bcb-8e9c-b5c6365832d9"
      },
      "outputs": [
        {
          "output_type": "execute_result",
          "data": {
            "text/plain": [
              "[11, 'Virat', 50.0]"
            ]
          },
          "metadata": {},
          "execution_count": 45
        }
      ],
      "source": [
        "temp1 = tuple(temp)\n",
        "temp"
      ]
    },
    {
      "cell_type": "markdown",
      "id": "bb2895f3",
      "metadata": {
        "id": "bb2895f3"
      },
      "source": [
        "Iterate through temp1 and print all the items in temp1."
      ]
    },
    {
      "cell_type": "code",
      "execution_count": 46,
      "id": "f7d66556",
      "metadata": {
        "id": "f7d66556",
        "outputId": "07f7484c-863e-43a1-a3a4-2ef55f79285a",
        "colab": {
          "base_uri": "https://localhost:8080/"
        }
      },
      "outputs": [
        {
          "output_type": "stream",
          "name": "stdout",
          "text": [
            "11\n",
            "Virat\n",
            "50.0\n"
          ]
        }
      ],
      "source": [
        "for i in temp1:\n",
        "    print(i)\n",
        "\n"
      ]
    },
    {
      "cell_type": "markdown",
      "id": "f71880f6",
      "metadata": {
        "id": "f71880f6"
      },
      "source": [
        "replace first element with 17 in temp1"
      ]
    },
    {
      "cell_type": "code",
      "execution_count": 48,
      "id": "332ac243",
      "metadata": {
        "id": "332ac243",
        "outputId": "f4b6795c-68e0-4375-d598-fc22cf8846a9",
        "colab": {
          "base_uri": "https://localhost:8080/",
          "height": 146
        }
      },
      "outputs": [
        {
          "output_type": "error",
          "ename": "TypeError",
          "evalue": "'tuple' object does not support item assignment",
          "traceback": [
            "\u001b[0;31m---------------------------------------------------------------------------\u001b[0m",
            "\u001b[0;31mTypeError\u001b[0m                                 Traceback (most recent call last)",
            "\u001b[0;32m<ipython-input-48-0207b6185b0a>\u001b[0m in \u001b[0;36m<cell line: 1>\u001b[0;34m()\u001b[0m\n\u001b[0;32m----> 1\u001b[0;31m \u001b[0mtemp1\u001b[0m\u001b[0;34m[\u001b[0m\u001b[0;36m0\u001b[0m\u001b[0;34m]\u001b[0m \u001b[0;34m=\u001b[0m \u001b[0;36m17\u001b[0m\u001b[0;34m\u001b[0m\u001b[0;34m\u001b[0m\u001b[0m\n\u001b[0m",
            "\u001b[0;31mTypeError\u001b[0m: 'tuple' object does not support item assignment"
          ]
        }
      ],
      "source": [
        "temp1[0] = 17\n"
      ]
    },
    {
      "cell_type": "markdown",
      "id": "c32f9e9d",
      "metadata": {
        "id": "c32f9e9d"
      },
      "source": [
        "<b>Oops!! You got an error. Hey Don't worry! Its because Once a tuple is created, you cannot change its values unlike list.</b>"
      ]
    },
    {
      "cell_type": "markdown",
      "id": "4f7294f5",
      "metadata": {
        "id": "4f7294f5"
      },
      "source": [
        "### Create city = (\"Bangalore\", 28.9949521, 72)"
      ]
    },
    {
      "cell_type": "code",
      "execution_count": 49,
      "id": "59c22040",
      "metadata": {
        "id": "59c22040"
      },
      "outputs": [],
      "source": [
        "city = (\"Bangalore\", 28.9949521, 72)"
      ]
    },
    {
      "cell_type": "markdown",
      "id": "0f7dab65",
      "metadata": {
        "id": "0f7dab65"
      },
      "source": [
        "Print first element of city"
      ]
    },
    {
      "cell_type": "code",
      "execution_count": 50,
      "id": "42d8676a",
      "metadata": {
        "id": "42d8676a",
        "outputId": "cfe2b9e9-b548-4e79-94d0-fed51ceaf42b",
        "colab": {
          "base_uri": "https://localhost:8080/",
          "height": 36
        }
      },
      "outputs": [
        {
          "output_type": "execute_result",
          "data": {
            "text/plain": [
              "'Bangalore'"
            ],
            "application/vnd.google.colaboratory.intrinsic+json": {
              "type": "string"
            }
          },
          "metadata": {},
          "execution_count": 50
        }
      ],
      "source": [
        "city[0]"
      ]
    },
    {
      "cell_type": "markdown",
      "id": "5a1fd229",
      "metadata": {
        "id": "5a1fd229"
      },
      "source": [
        "Create city2 = (‘Chennai’, 30.01, 74)"
      ]
    },
    {
      "cell_type": "code",
      "execution_count": 51,
      "id": "5c59a18c",
      "metadata": {
        "id": "5c59a18c"
      },
      "outputs": [],
      "source": [
        "city2 = ('Chennai', 30.01, 74)"
      ]
    },
    {
      "cell_type": "markdown",
      "id": "d5efd130",
      "metadata": {
        "id": "d5efd130"
      },
      "source": [
        "\n",
        "Create cities which consist of city and city2"
      ]
    },
    {
      "cell_type": "code",
      "execution_count": 52,
      "id": "a59a0f18",
      "metadata": {
        "id": "a59a0f18",
        "colab": {
          "base_uri": "https://localhost:8080/"
        },
        "outputId": "1a1b4ef1-adcf-423e-e664-c8eb3d3b97f6"
      },
      "outputs": [
        {
          "output_type": "execute_result",
          "data": {
            "text/plain": [
              "['Bangalore', 'Chennai']"
            ]
          },
          "metadata": {},
          "execution_count": 52
        }
      ],
      "source": [
        "cities = [city[0] , city2[0]]\n",
        "cities"
      ]
    },
    {
      "cell_type": "markdown",
      "id": "b0fe3693",
      "metadata": {
        "id": "b0fe3693"
      },
      "source": [
        "Print cities"
      ]
    },
    {
      "cell_type": "code",
      "execution_count": 53,
      "id": "76fdfca3",
      "metadata": {
        "id": "76fdfca3",
        "outputId": "a9225a3c-7616-4258-d03b-5a3c10d2f6b7",
        "colab": {
          "base_uri": "https://localhost:8080/"
        }
      },
      "outputs": [
        {
          "output_type": "execute_result",
          "data": {
            "text/plain": [
              "['Bangalore', 'Chennai']"
            ]
          },
          "metadata": {},
          "execution_count": 53
        }
      ],
      "source": [
        "cities"
      ]
    },
    {
      "cell_type": "markdown",
      "id": "b12eb63f",
      "metadata": {
        "id": "b12eb63f"
      },
      "source": [
        "Print type of first element in cities"
      ]
    },
    {
      "cell_type": "code",
      "execution_count": 54,
      "id": "4afe11ec",
      "metadata": {
        "id": "4afe11ec",
        "outputId": "ccb97966-f62c-4fe2-8cff-569592f87716",
        "colab": {
          "base_uri": "https://localhost:8080/"
        }
      },
      "outputs": [
        {
          "output_type": "execute_result",
          "data": {
            "text/plain": [
              "str"
            ]
          },
          "metadata": {},
          "execution_count": 54
        }
      ],
      "source": [
        "type(cities[0])"
      ]
    },
    {
      "cell_type": "markdown",
      "id": "7f6ce175",
      "metadata": {
        "id": "7f6ce175"
      },
      "source": [
        "print the type of cities\n"
      ]
    },
    {
      "cell_type": "code",
      "execution_count": 55,
      "id": "8d248c88",
      "metadata": {
        "id": "8d248c88",
        "outputId": "2ae26f50-0b60-45cd-e463-b7c42e1e0fa4",
        "colab": {
          "base_uri": "https://localhost:8080/"
        }
      },
      "outputs": [
        {
          "output_type": "execute_result",
          "data": {
            "text/plain": [
              "list"
            ]
          },
          "metadata": {},
          "execution_count": 55
        }
      ],
      "source": [
        "\n",
        "type(cities)"
      ]
    },
    {
      "cell_type": "markdown",
      "id": "8cb74c4f",
      "metadata": {
        "id": "8cb74c4f"
      },
      "source": [
        "Hey that implies you made a nested tuples!!"
      ]
    },
    {
      "cell_type": "markdown",
      "id": "e123f05c",
      "metadata": {
        "id": "e123f05c"
      },
      "source": [
        "## DICTIONARY"
      ]
    },
    {
      "cell_type": "markdown",
      "id": "99d45224",
      "metadata": {
        "id": "99d45224"
      },
      "source": [
        "### Create a dictionary d = {\"actor\":\"amir\",\"animal\":\"cat\",\"earth\":2,\"list\":[23,32,12]}"
      ]
    },
    {
      "cell_type": "code",
      "execution_count": 56,
      "id": "48603a5f",
      "metadata": {
        "id": "48603a5f"
      },
      "outputs": [],
      "source": [
        "d = {\"actor\":\"amir\",\"animal\":\"cat\",\"earth\":2,\"list\":[23,32,12]}"
      ]
    },
    {
      "cell_type": "markdown",
      "id": "60e8b4fa",
      "metadata": {
        "id": "60e8b4fa"
      },
      "source": [
        "Print the value of d[0]"
      ]
    },
    {
      "cell_type": "code",
      "execution_count": 57,
      "id": "b7a23aec",
      "metadata": {
        "id": "b7a23aec",
        "outputId": "90329d2d-4a9b-40d3-935d-7f13dd8fdbd6",
        "colab": {
          "base_uri": "https://localhost:8080/",
          "height": 146
        }
      },
      "outputs": [
        {
          "output_type": "error",
          "ename": "KeyError",
          "evalue": "0",
          "traceback": [
            "\u001b[0;31m---------------------------------------------------------------------------\u001b[0m",
            "\u001b[0;31mKeyError\u001b[0m                                  Traceback (most recent call last)",
            "\u001b[0;32m<ipython-input-57-123a9cc6df61>\u001b[0m in \u001b[0;36m<cell line: 1>\u001b[0;34m()\u001b[0m\n\u001b[0;32m----> 1\u001b[0;31m \u001b[0md\u001b[0m\u001b[0;34m[\u001b[0m\u001b[0;36m0\u001b[0m\u001b[0;34m]\u001b[0m\u001b[0;34m\u001b[0m\u001b[0;34m\u001b[0m\u001b[0m\n\u001b[0m",
            "\u001b[0;31mKeyError\u001b[0m: 0"
          ]
        }
      ],
      "source": [
        "d[0]"
      ]
    },
    {
      "cell_type": "markdown",
      "id": "85312877",
      "metadata": {
        "id": "85312877"
      },
      "source": [
        "<b>Oops!! again an error. again a fun fact. Dictionary return the value for key if key is in the dictionary, else throws KeyError\n",
        "and we don't have key 0 here :( </b>"
      ]
    },
    {
      "cell_type": "markdown",
      "id": "f73c727b",
      "metadata": {
        "id": "f73c727b"
      },
      "source": [
        "Store the value of d[‘actor’] to a new variable actor."
      ]
    },
    {
      "cell_type": "code",
      "execution_count": 58,
      "id": "8b6106f8",
      "metadata": {
        "id": "8b6106f8",
        "colab": {
          "base_uri": "https://localhost:8080/"
        },
        "outputId": "469bda77-b707-4d3a-fe43-4d75922752ae"
      },
      "outputs": [
        {
          "output_type": "execute_result",
          "data": {
            "text/plain": [
              "{'actor': 'actor', 'animal': 'cat', 'earth': 2, 'list': [23, 32, 12]}"
            ]
          },
          "metadata": {},
          "execution_count": 58
        }
      ],
      "source": [
        "\n",
        "d['actor'] = 'actor'\n",
        "d"
      ]
    },
    {
      "cell_type": "markdown",
      "id": "4a5bab58",
      "metadata": {
        "id": "4a5bab58"
      },
      "source": [
        "Print the type of actor"
      ]
    },
    {
      "cell_type": "code",
      "execution_count": 59,
      "id": "3dcc9aa9",
      "metadata": {
        "id": "3dcc9aa9",
        "outputId": "6898d0d2-6307-4552-b6d2-a3de55c865db",
        "colab": {
          "base_uri": "https://localhost:8080/"
        }
      },
      "outputs": [
        {
          "output_type": "execute_result",
          "data": {
            "text/plain": [
              "str"
            ]
          },
          "metadata": {},
          "execution_count": 59
        }
      ],
      "source": [
        "type(d['actor'])"
      ]
    },
    {
      "cell_type": "markdown",
      "id": "41bba6ad",
      "metadata": {
        "id": "41bba6ad"
      },
      "source": [
        "Store the value of d[‘list’] in new variable List."
      ]
    },
    {
      "cell_type": "code",
      "execution_count": 60,
      "id": "96ef4ceb",
      "metadata": {
        "id": "96ef4ceb",
        "colab": {
          "base_uri": "https://localhost:8080/"
        },
        "outputId": "b3eccf9b-f761-43a5-ac77-2a76da40c5ab"
      },
      "outputs": [
        {
          "output_type": "execute_result",
          "data": {
            "text/plain": [
              "{'actor': 'actor', 'animal': 'cat', 'earth': 2, 'list': 'List'}"
            ]
          },
          "metadata": {},
          "execution_count": 60
        }
      ],
      "source": [
        "d['list'] = 'List'\n",
        "d"
      ]
    },
    {
      "cell_type": "markdown",
      "id": "f0ccfeb1",
      "metadata": {
        "id": "f0ccfeb1"
      },
      "source": [
        "Print the type of List."
      ]
    },
    {
      "cell_type": "code",
      "execution_count": 61,
      "id": "0ddab36c",
      "metadata": {
        "id": "0ddab36c",
        "outputId": "f94ea549-bf0a-48c0-ad27-f0912bd3e7b3",
        "colab": {
          "base_uri": "https://localhost:8080/"
        }
      },
      "outputs": [
        {
          "output_type": "execute_result",
          "data": {
            "text/plain": [
              "str"
            ]
          },
          "metadata": {},
          "execution_count": 61
        }
      ],
      "source": [
        "type(d['list'])"
      ]
    },
    {
      "cell_type": "markdown",
      "id": "ec85474c",
      "metadata": {
        "id": "ec85474c"
      },
      "source": [
        "Create d1 = { ‘singer’ : ‘Kr$na’ , ‘album’: ‘Still here’, ‘genre’ : ‘hip-hop’}"
      ]
    },
    {
      "cell_type": "code",
      "execution_count": 62,
      "id": "6a43a996",
      "metadata": {
        "id": "6a43a996"
      },
      "outputs": [],
      "source": [
        "d1 = { 'singer' : 'Kr$na' , 'album': 'Still here', 'genre' : 'hip-hop'}"
      ]
    },
    {
      "cell_type": "markdown",
      "id": "3b685221",
      "metadata": {
        "id": "3b685221"
      },
      "source": [
        "Merge d1 into d."
      ]
    },
    {
      "cell_type": "code",
      "execution_count": 63,
      "id": "fa157833",
      "metadata": {
        "id": "fa157833"
      },
      "outputs": [],
      "source": [
        "d.update(d1)"
      ]
    },
    {
      "cell_type": "markdown",
      "id": "38facedd",
      "metadata": {
        "id": "38facedd"
      },
      "source": [
        "print d"
      ]
    },
    {
      "cell_type": "code",
      "execution_count": 64,
      "id": "a10f8ed8",
      "metadata": {
        "id": "a10f8ed8",
        "outputId": "59ded65e-ad84-4a4a-bf2b-108efe21a076",
        "colab": {
          "base_uri": "https://localhost:8080/"
        }
      },
      "outputs": [
        {
          "output_type": "execute_result",
          "data": {
            "text/plain": [
              "{'actor': 'actor',\n",
              " 'animal': 'cat',\n",
              " 'earth': 2,\n",
              " 'list': 'List',\n",
              " 'singer': 'Kr$na',\n",
              " 'album': 'Still here',\n",
              " 'genre': 'hip-hop'}"
            ]
          },
          "metadata": {},
          "execution_count": 64
        }
      ],
      "source": [
        "\n",
        "d"
      ]
    },
    {
      "cell_type": "markdown",
      "id": "8a24f28f",
      "metadata": {
        "id": "8a24f28f"
      },
      "source": [
        "Print all the keys in d"
      ]
    },
    {
      "cell_type": "code",
      "execution_count": 65,
      "id": "153eeb8e",
      "metadata": {
        "id": "153eeb8e",
        "outputId": "4915e6ad-b470-4f26-b51d-c299fd526386",
        "colab": {
          "base_uri": "https://localhost:8080/"
        }
      },
      "outputs": [
        {
          "output_type": "execute_result",
          "data": {
            "text/plain": [
              "dict_keys(['actor', 'animal', 'earth', 'list', 'singer', 'album', 'genre'])"
            ]
          },
          "metadata": {},
          "execution_count": 65
        }
      ],
      "source": [
        "d.keys()"
      ]
    },
    {
      "cell_type": "markdown",
      "id": "e9480b62",
      "metadata": {
        "id": "e9480b62"
      },
      "source": [
        "Print all the values in d"
      ]
    },
    {
      "cell_type": "code",
      "execution_count": 66,
      "id": "47d956ec",
      "metadata": {
        "id": "47d956ec",
        "outputId": "17dd1b2e-10dd-4f39-ad62-1c7a825ccac4",
        "colab": {
          "base_uri": "https://localhost:8080/"
        }
      },
      "outputs": [
        {
          "output_type": "execute_result",
          "data": {
            "text/plain": [
              "dict_values(['actor', 'cat', 2, 'List', 'Kr$na', 'Still here', 'hip-hop'])"
            ]
          },
          "metadata": {},
          "execution_count": 66
        }
      ],
      "source": [
        "d.values()"
      ]
    },
    {
      "cell_type": "markdown",
      "id": "5353b511",
      "metadata": {
        "id": "5353b511"
      },
      "source": [
        "Iterate over d, and print each key, value pair as this - (actor ----> amir)"
      ]
    },
    {
      "cell_type": "code",
      "execution_count": 67,
      "id": "e7b31bc2",
      "metadata": {
        "id": "e7b31bc2",
        "outputId": "b7d7991f-30df-4c7c-c2f5-a08c31683bd7",
        "colab": {
          "base_uri": "https://localhost:8080/"
        }
      },
      "outputs": [
        {
          "output_type": "stream",
          "name": "stdout",
          "text": [
            "(actor ----> actor)\n",
            "(animal ----> cat)\n",
            "(earth ----> 2)\n",
            "(list ----> List)\n",
            "(singer ----> Kr$na)\n",
            "(album ----> Still here)\n",
            "(genre ----> hip-hop)\n"
          ]
        }
      ],
      "source": [
        "for key, value in d.items():\n",
        "    print(f'({key} ----> {value})')"
      ]
    },
    {
      "cell_type": "markdown",
      "id": "10e6ba8a",
      "metadata": {
        "id": "10e6ba8a"
      },
      "source": [
        "count the number of occurences of charachters in string named \"sent\" using dictionary and print the same.\n"
      ]
    },
    {
      "cell_type": "code",
      "execution_count": 68,
      "id": "9a65221e",
      "metadata": {
        "id": "9a65221e",
        "outputId": "6c9e5e03-f468-4c50-adfe-c03580caddc0",
        "colab": {
          "base_uri": "https://localhost:8080/"
        }
      },
      "outputs": [
        {
          "output_type": "execute_result",
          "data": {
            "text/plain": [
              "{'s': 1, 'e': 1, 'n': 1, 't': 1}"
            ]
          },
          "metadata": {},
          "execution_count": 68
        }
      ],
      "source": [
        "string = 'sent'\n",
        "dictionary = {}\n",
        "for i in string:\n",
        "    if i in dictionary.keys():\n",
        "        dictionary[i] += 1\n",
        "    else:\n",
        "        dictionary[i] = 1\n",
        "dictionary"
      ]
    },
    {
      "cell_type": "code",
      "source": [],
      "metadata": {
        "id": "YmUO7Q_wzh1n"
      },
      "id": "YmUO7Q_wzh1n",
      "execution_count": 68,
      "outputs": []
    }
  ],
  "metadata": {
    "colab": {
      "provenance": [],
      "include_colab_link": true
    },
    "kernelspec": {
      "display_name": "Python 3 (ipykernel)",
      "language": "python",
      "name": "python3"
    },
    "language_info": {
      "codemirror_mode": {
        "name": "ipython",
        "version": 3
      },
      "file_extension": ".py",
      "mimetype": "text/x-python",
      "name": "python",
      "nbconvert_exporter": "python",
      "pygments_lexer": "ipython3",
      "version": "3.11.5"
    }
  },
  "nbformat": 4,
  "nbformat_minor": 5
}